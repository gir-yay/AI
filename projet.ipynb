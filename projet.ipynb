{
 "cells": [
  {
   "cell_type": "markdown",
   "id": "f1067f7b-4b71-4ab9-849e-76ae63d138b0",
   "metadata": {},
   "source": [
    "# Mini-projet IA (classification) :  \n",
    "## Risques Cardiovasculaires "
   ]
  },
  {
   "cell_type": "code",
   "execution_count": null,
   "id": "7b721c55-b53a-4ac7-9076-61d568cf5f0e",
   "metadata": {},
   "outputs": [],
   "source": []
  }
 ],
 "metadata": {
  "kernelspec": {
   "display_name": "Python 3 (ipykernel)",
   "language": "python",
   "name": "python3"
  },
  "language_info": {
   "codemirror_mode": {
    "name": "ipython",
    "version": 3
   },
   "file_extension": ".py",
   "mimetype": "text/x-python",
   "name": "python",
   "nbconvert_exporter": "python",
   "pygments_lexer": "ipython3",
   "version": "3.12.3"
  }
 },
 "nbformat": 4,
 "nbformat_minor": 5
}
