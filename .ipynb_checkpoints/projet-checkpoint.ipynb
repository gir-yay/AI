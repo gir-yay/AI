{
 "cells": [
  {
   "cell_type": "markdown",
   "id": "f1067f7b-4b71-4ab9-849e-76ae63d138b0",
   "metadata": {},
   "source": [
    "# Mini-projet IA (classification) :  \n",
    "## Risques Cardiovasculaires\n",
    "\n",
    "### 1. Data understanding (compréhension des données) : "
   ]
  },
  {
   "cell_type": "markdown",
   "id": "aab9992c-199e-47e1-84f9-1eb9c03996e9",
   "metadata": {},
   "source": [
    "##### Chargement et affichage des données"
   ]
  },
  {
   "cell_type": "code",
   "execution_count": 11,
   "id": "8218cc81-e363-402f-ab6e-03e38aadf131",
   "metadata": {},
   "outputs": [],
   "source": [
    "import pandas as pd\n",
    "import matplotlib as mpl\n",
    "import matplotlib.pyplot as plt\n",
    "import seaborn as sns"
   ]
  },
  {
   "cell_type": "code",
   "execution_count": 12,
   "id": "7b721c55-b53a-4ac7-9076-61d568cf5f0e",
   "metadata": {
    "scrolled": true
   },
   "outputs": [
    {
     "data": {
      "text/html": [
       "<div>\n",
       "<style scoped>\n",
       "    .dataframe tbody tr th:only-of-type {\n",
       "        vertical-align: middle;\n",
       "    }\n",
       "\n",
       "    .dataframe tbody tr th {\n",
       "        vertical-align: top;\n",
       "    }\n",
       "\n",
       "    .dataframe thead th {\n",
       "        text-align: right;\n",
       "    }\n",
       "</style>\n",
       "<table border=\"1\" class=\"dataframe\">\n",
       "  <thead>\n",
       "    <tr style=\"text-align: right;\">\n",
       "      <th></th>\n",
       "      <th>General_Health</th>\n",
       "      <th>Checkup</th>\n",
       "      <th>Exercise</th>\n",
       "      <th>Heart_Disease</th>\n",
       "      <th>Skin_Cancer</th>\n",
       "      <th>Other_Cancer</th>\n",
       "      <th>Depression</th>\n",
       "      <th>Diabetes</th>\n",
       "      <th>Arthritis</th>\n",
       "      <th>Sex</th>\n",
       "      <th>Age_Category</th>\n",
       "      <th>Height_(cm)</th>\n",
       "      <th>Weight_(kg)</th>\n",
       "      <th>BMI</th>\n",
       "      <th>Smoking_History</th>\n",
       "      <th>Alcohol_Consumption</th>\n",
       "      <th>Fruit_Consumption</th>\n",
       "      <th>Green_Vegetables_Consumption</th>\n",
       "      <th>FriedPotato_Consumption</th>\n",
       "    </tr>\n",
       "  </thead>\n",
       "  <tbody>\n",
       "    <tr>\n",
       "      <th>0</th>\n",
       "      <td>Poor</td>\n",
       "      <td>Within the past 2 years</td>\n",
       "      <td>No</td>\n",
       "      <td>No</td>\n",
       "      <td>No</td>\n",
       "      <td>No</td>\n",
       "      <td>No</td>\n",
       "      <td>No</td>\n",
       "      <td>Yes</td>\n",
       "      <td>Female</td>\n",
       "      <td>70-74</td>\n",
       "      <td>150.0</td>\n",
       "      <td>32.66</td>\n",
       "      <td>14.54</td>\n",
       "      <td>Yes</td>\n",
       "      <td>0.0</td>\n",
       "      <td>30.0</td>\n",
       "      <td>16.0</td>\n",
       "      <td>12.0</td>\n",
       "    </tr>\n",
       "    <tr>\n",
       "      <th>1</th>\n",
       "      <td>Very Good</td>\n",
       "      <td>Within the past year</td>\n",
       "      <td>No</td>\n",
       "      <td>Yes</td>\n",
       "      <td>No</td>\n",
       "      <td>No</td>\n",
       "      <td>No</td>\n",
       "      <td>Yes</td>\n",
       "      <td>No</td>\n",
       "      <td>Female</td>\n",
       "      <td>70-74</td>\n",
       "      <td>165.0</td>\n",
       "      <td>77.11</td>\n",
       "      <td>28.29</td>\n",
       "      <td>No</td>\n",
       "      <td>0.0</td>\n",
       "      <td>30.0</td>\n",
       "      <td>0.0</td>\n",
       "      <td>4.0</td>\n",
       "    </tr>\n",
       "    <tr>\n",
       "      <th>2</th>\n",
       "      <td>Very Good</td>\n",
       "      <td>Within the past year</td>\n",
       "      <td>Yes</td>\n",
       "      <td>No</td>\n",
       "      <td>No</td>\n",
       "      <td>No</td>\n",
       "      <td>No</td>\n",
       "      <td>Yes</td>\n",
       "      <td>No</td>\n",
       "      <td>Female</td>\n",
       "      <td>60-64</td>\n",
       "      <td>163.0</td>\n",
       "      <td>88.45</td>\n",
       "      <td>33.47</td>\n",
       "      <td>No</td>\n",
       "      <td>4.0</td>\n",
       "      <td>12.0</td>\n",
       "      <td>3.0</td>\n",
       "      <td>16.0</td>\n",
       "    </tr>\n",
       "    <tr>\n",
       "      <th>3</th>\n",
       "      <td>Poor</td>\n",
       "      <td>Within the past year</td>\n",
       "      <td>Yes</td>\n",
       "      <td>Yes</td>\n",
       "      <td>No</td>\n",
       "      <td>No</td>\n",
       "      <td>No</td>\n",
       "      <td>Yes</td>\n",
       "      <td>No</td>\n",
       "      <td>Male</td>\n",
       "      <td>75-79</td>\n",
       "      <td>180.0</td>\n",
       "      <td>93.44</td>\n",
       "      <td>28.73</td>\n",
       "      <td>No</td>\n",
       "      <td>0.0</td>\n",
       "      <td>30.0</td>\n",
       "      <td>30.0</td>\n",
       "      <td>8.0</td>\n",
       "    </tr>\n",
       "    <tr>\n",
       "      <th>4</th>\n",
       "      <td>Good</td>\n",
       "      <td>Within the past year</td>\n",
       "      <td>No</td>\n",
       "      <td>No</td>\n",
       "      <td>No</td>\n",
       "      <td>No</td>\n",
       "      <td>No</td>\n",
       "      <td>No</td>\n",
       "      <td>No</td>\n",
       "      <td>Male</td>\n",
       "      <td>80+</td>\n",
       "      <td>191.0</td>\n",
       "      <td>88.45</td>\n",
       "      <td>24.37</td>\n",
       "      <td>Yes</td>\n",
       "      <td>0.0</td>\n",
       "      <td>8.0</td>\n",
       "      <td>4.0</td>\n",
       "      <td>0.0</td>\n",
       "    </tr>\n",
       "    <tr>\n",
       "      <th>5</th>\n",
       "      <td>Good</td>\n",
       "      <td>Within the past year</td>\n",
       "      <td>No</td>\n",
       "      <td>No</td>\n",
       "      <td>No</td>\n",
       "      <td>No</td>\n",
       "      <td>Yes</td>\n",
       "      <td>No</td>\n",
       "      <td>Yes</td>\n",
       "      <td>Male</td>\n",
       "      <td>60-64</td>\n",
       "      <td>183.0</td>\n",
       "      <td>154.22</td>\n",
       "      <td>46.11</td>\n",
       "      <td>No</td>\n",
       "      <td>0.0</td>\n",
       "      <td>12.0</td>\n",
       "      <td>12.0</td>\n",
       "      <td>12.0</td>\n",
       "    </tr>\n",
       "    <tr>\n",
       "      <th>6</th>\n",
       "      <td>Fair</td>\n",
       "      <td>Within the past year</td>\n",
       "      <td>Yes</td>\n",
       "      <td>Yes</td>\n",
       "      <td>No</td>\n",
       "      <td>No</td>\n",
       "      <td>No</td>\n",
       "      <td>No</td>\n",
       "      <td>Yes</td>\n",
       "      <td>Male</td>\n",
       "      <td>60-64</td>\n",
       "      <td>175.0</td>\n",
       "      <td>69.85</td>\n",
       "      <td>22.74</td>\n",
       "      <td>Yes</td>\n",
       "      <td>0.0</td>\n",
       "      <td>16.0</td>\n",
       "      <td>8.0</td>\n",
       "      <td>0.0</td>\n",
       "    </tr>\n",
       "    <tr>\n",
       "      <th>7</th>\n",
       "      <td>Good</td>\n",
       "      <td>Within the past year</td>\n",
       "      <td>Yes</td>\n",
       "      <td>No</td>\n",
       "      <td>No</td>\n",
       "      <td>No</td>\n",
       "      <td>No</td>\n",
       "      <td>No</td>\n",
       "      <td>Yes</td>\n",
       "      <td>Female</td>\n",
       "      <td>65-69</td>\n",
       "      <td>165.0</td>\n",
       "      <td>108.86</td>\n",
       "      <td>39.94</td>\n",
       "      <td>Yes</td>\n",
       "      <td>3.0</td>\n",
       "      <td>30.0</td>\n",
       "      <td>8.0</td>\n",
       "      <td>8.0</td>\n",
       "    </tr>\n",
       "    <tr>\n",
       "      <th>8</th>\n",
       "      <td>Fair</td>\n",
       "      <td>Within the past year</td>\n",
       "      <td>No</td>\n",
       "      <td>No</td>\n",
       "      <td>No</td>\n",
       "      <td>No</td>\n",
       "      <td>Yes</td>\n",
       "      <td>No</td>\n",
       "      <td>No</td>\n",
       "      <td>Female</td>\n",
       "      <td>65-69</td>\n",
       "      <td>163.0</td>\n",
       "      <td>72.57</td>\n",
       "      <td>27.46</td>\n",
       "      <td>Yes</td>\n",
       "      <td>0.0</td>\n",
       "      <td>12.0</td>\n",
       "      <td>12.0</td>\n",
       "      <td>4.0</td>\n",
       "    </tr>\n",
       "    <tr>\n",
       "      <th>9</th>\n",
       "      <td>Fair</td>\n",
       "      <td>Within the past year</td>\n",
       "      <td>No</td>\n",
       "      <td>No</td>\n",
       "      <td>No</td>\n",
       "      <td>No</td>\n",
       "      <td>No</td>\n",
       "      <td>Yes</td>\n",
       "      <td>Yes</td>\n",
       "      <td>Female</td>\n",
       "      <td>70-74</td>\n",
       "      <td>163.0</td>\n",
       "      <td>91.63</td>\n",
       "      <td>34.67</td>\n",
       "      <td>No</td>\n",
       "      <td>0.0</td>\n",
       "      <td>12.0</td>\n",
       "      <td>12.0</td>\n",
       "      <td>1.0</td>\n",
       "    </tr>\n",
       "  </tbody>\n",
       "</table>\n",
       "</div>"
      ],
      "text/plain": [
       "  General_Health                  Checkup Exercise Heart_Disease Skin_Cancer  \\\n",
       "0           Poor  Within the past 2 years       No            No          No   \n",
       "1      Very Good     Within the past year       No           Yes          No   \n",
       "2      Very Good     Within the past year      Yes            No          No   \n",
       "3           Poor     Within the past year      Yes           Yes          No   \n",
       "4           Good     Within the past year       No            No          No   \n",
       "5           Good     Within the past year       No            No          No   \n",
       "6           Fair     Within the past year      Yes           Yes          No   \n",
       "7           Good     Within the past year      Yes            No          No   \n",
       "8           Fair     Within the past year       No            No          No   \n",
       "9           Fair     Within the past year       No            No          No   \n",
       "\n",
       "  Other_Cancer Depression Diabetes Arthritis     Sex Age_Category  \\\n",
       "0           No         No       No       Yes  Female        70-74   \n",
       "1           No         No      Yes        No  Female        70-74   \n",
       "2           No         No      Yes        No  Female        60-64   \n",
       "3           No         No      Yes        No    Male        75-79   \n",
       "4           No         No       No        No    Male          80+   \n",
       "5           No        Yes       No       Yes    Male        60-64   \n",
       "6           No         No       No       Yes    Male        60-64   \n",
       "7           No         No       No       Yes  Female        65-69   \n",
       "8           No        Yes       No        No  Female        65-69   \n",
       "9           No         No      Yes       Yes  Female        70-74   \n",
       "\n",
       "   Height_(cm) Weight_(kg)    BMI Smoking_History  Alcohol_Consumption  \\\n",
       "0        150.0       32.66  14.54             Yes                  0.0   \n",
       "1        165.0       77.11  28.29              No                  0.0   \n",
       "2        163.0       88.45  33.47              No                  4.0   \n",
       "3        180.0       93.44  28.73              No                  0.0   \n",
       "4        191.0       88.45  24.37             Yes                  0.0   \n",
       "5        183.0      154.22  46.11              No                  0.0   \n",
       "6        175.0       69.85  22.74             Yes                  0.0   \n",
       "7        165.0      108.86  39.94             Yes                  3.0   \n",
       "8        163.0       72.57  27.46             Yes                  0.0   \n",
       "9        163.0       91.63  34.67              No                  0.0   \n",
       "\n",
       "   Fruit_Consumption  Green_Vegetables_Consumption  FriedPotato_Consumption  \n",
       "0               30.0                          16.0                     12.0  \n",
       "1               30.0                           0.0                      4.0  \n",
       "2               12.0                           3.0                     16.0  \n",
       "3               30.0                          30.0                      8.0  \n",
       "4                8.0                           4.0                      0.0  \n",
       "5               12.0                          12.0                     12.0  \n",
       "6               16.0                           8.0                      0.0  \n",
       "7               30.0                           8.0                      8.0  \n",
       "8               12.0                          12.0                      4.0  \n",
       "9               12.0                          12.0                      1.0  "
      ]
     },
     "execution_count": 12,
     "metadata": {},
     "output_type": "execute_result"
    }
   ],
   "source": [
    "#Chargement des données\n",
    "dataset = pd.read_csv(\"Cardiovascular_Diseases.csv\" ,sep=',' ,low_memory=False)\n",
    "target_column = \"Heart_Disease\"\n",
    "\n",
    "#Affichage des données\n",
    "dataset.head(10)"
   ]
  },
  {
   "cell_type": "markdown",
   "id": "83348bc1-80ab-47bf-ac72-5d89a2148b2b",
   "metadata": {},
   "source": [
    "##### Description"
   ]
  },
  {
   "cell_type": "code",
   "execution_count": 13,
   "id": "fd4940fc-392d-4392-972f-8d220181f23d",
   "metadata": {},
   "outputs": [
    {
     "name": "stdout",
     "output_type": "stream",
     "text": [
      "(volume , dimension) = (308854, 19)\n"
     ]
    }
   ],
   "source": [
    "#volume : nombre total d'instances\n",
    "#dimension : nombre total des attributs\n",
    "\n",
    "print(\"(volume , dimension) =\" ,dataset.shape)"
   ]
  },
  {
   "cell_type": "code",
   "execution_count": 14,
   "id": "76d72603-152a-4852-8522-046f8025c32a",
   "metadata": {},
   "outputs": [
    {
     "data": {
      "text/plain": [
       "General_Health                   object\n",
       "Checkup                          object\n",
       "Exercise                         object\n",
       "Heart_Disease                    object\n",
       "Skin_Cancer                      object\n",
       "Other_Cancer                     object\n",
       "Depression                       object\n",
       "Diabetes                         object\n",
       "Arthritis                        object\n",
       "Sex                              object\n",
       "Age_Category                     object\n",
       "Height_(cm)                     float64\n",
       "Weight_(kg)                      object\n",
       "BMI                              object\n",
       "Smoking_History                  object\n",
       "Alcohol_Consumption             float64\n",
       "Fruit_Consumption               float64\n",
       "Green_Vegetables_Consumption    float64\n",
       "FriedPotato_Consumption         float64\n",
       "dtype: object"
      ]
     },
     "execution_count": 14,
     "metadata": {},
     "output_type": "execute_result"
    }
   ],
   "source": [
    "#Informations sur les types  et le  codage de données \n",
    "dataset.dtypes"
   ]
  },
  {
   "cell_type": "code",
   "execution_count": 15,
   "id": "2bf5bcba-ae0c-4824-8afa-db2345733c5a",
   "metadata": {},
   "outputs": [
    {
     "name": "stdout",
     "output_type": "stream",
     "text": [
      "<class 'pandas.core.frame.DataFrame'>\n",
      "RangeIndex: 308854 entries, 0 to 308853\n",
      "Data columns (total 19 columns):\n",
      " #   Column                        Non-Null Count   Dtype  \n",
      "---  ------                        --------------   -----  \n",
      " 0   General_Health                308854 non-null  object \n",
      " 1   Checkup                       299312 non-null  object \n",
      " 2   Exercise                      299312 non-null  object \n",
      " 3   Heart_Disease                 299312 non-null  object \n",
      " 4   Skin_Cancer                   299312 non-null  object \n",
      " 5   Other_Cancer                  299312 non-null  object \n",
      " 6   Depression                    299312 non-null  object \n",
      " 7   Diabetes                      299312 non-null  object \n",
      " 8   Arthritis                     299312 non-null  object \n",
      " 9   Sex                           299312 non-null  object \n",
      " 10  Age_Category                  299312 non-null  object \n",
      " 11  Height_(cm)                   299287 non-null  float64\n",
      " 12  Weight_(kg)                   299311 non-null  object \n",
      " 13  BMI                           299312 non-null  object \n",
      " 14  Smoking_History               299312 non-null  object \n",
      " 15  Alcohol_Consumption           299312 non-null  float64\n",
      " 16  Fruit_Consumption             299312 non-null  float64\n",
      " 17  Green_Vegetables_Consumption  299312 non-null  float64\n",
      " 18  FriedPotato_Consumption       299311 non-null  float64\n",
      "dtypes: float64(5), object(14)\n",
      "memory usage: 44.8+ MB\n"
     ]
    }
   ],
   "source": [
    "#Informations sur le dataset\n",
    "dataset.info()"
   ]
  },
  {
   "cell_type": "markdown",
   "id": "d14f489f-38ef-49e6-8669-ce2e4725672d",
   "metadata": {},
   "source": [
    "<div class=\"alert alert-info\">\n",
    "<h3>Note</h3>\n",
    "<p>\n",
    "    BMI et le Weight_(kg) sont considérés des objets , donc il faut les transformer en valeur numérique.\n",
    "</p>\n",
    "</div>"
   ]
  },
  {
   "cell_type": "code",
   "execution_count": 16,
   "id": "d7c505c3-20f4-455a-821f-08a85277964c",
   "metadata": {},
   "outputs": [
    {
     "name": "stdout",
     "output_type": "stream",
     "text": [
      "       General_Health               Checkup Exercise Heart_Disease  \\\n",
      "count          308854                299312   299312        299312   \n",
      "unique           9547                     5        2             2   \n",
      "top         Very Good  Within the past year      Yes            No   \n",
      "freq           107449                231520   232412        275231   \n",
      "mean              NaN                   NaN      NaN           NaN   \n",
      "std               NaN                   NaN      NaN           NaN   \n",
      "min               NaN                   NaN      NaN           NaN   \n",
      "25%               NaN                   NaN      NaN           NaN   \n",
      "50%               NaN                   NaN      NaN           NaN   \n",
      "75%               NaN                   NaN      NaN           NaN   \n",
      "max               NaN                   NaN      NaN           NaN   \n",
      "\n",
      "       Skin_Cancer Other_Cancer Depression Diabetes Arthritis     Sex  \\\n",
      "count       299312       299312     299312   299312    299312  299312   \n",
      "unique           2            2          2        2         2       2   \n",
      "top             No           No         No       No        No  Female   \n",
      "freq        270249       270415     239899   259141    202066  153867   \n",
      "mean           NaN          NaN        NaN      NaN       NaN     NaN   \n",
      "std            NaN          NaN        NaN      NaN       NaN     NaN   \n",
      "min            NaN          NaN        NaN      NaN       NaN     NaN   \n",
      "25%            NaN          NaN        NaN      NaN       NaN     NaN   \n",
      "50%            NaN          NaN        NaN      NaN       NaN     NaN   \n",
      "75%            NaN          NaN        NaN      NaN       NaN     NaN   \n",
      "max            NaN          NaN        NaN      NaN       NaN     NaN   \n",
      "\n",
      "       Age_Category    Height_(cm) Weight_(kg)     BMI Smoking_History  \\\n",
      "count        299312  299287.000000      299311  299312          299312   \n",
      "unique           13            NaN         524    3611               3   \n",
      "top           65-69            NaN       90.72   26.63              No   \n",
      "freq          32321            NaN       16105    3250          178100   \n",
      "mean            NaN     170.719734         NaN     NaN             NaN   \n",
      "std             NaN      10.649743         NaN     NaN             NaN   \n",
      "min             NaN      91.000000         NaN     NaN             NaN   \n",
      "25%             NaN     163.000000         NaN     NaN             NaN   \n",
      "50%             NaN     170.000000         NaN     NaN             NaN   \n",
      "75%             NaN     178.000000         NaN     NaN             NaN   \n",
      "max             NaN     241.000000         NaN     NaN             NaN   \n",
      "\n",
      "        Alcohol_Consumption  Fruit_Consumption  Green_Vegetables_Consumption  \\\n",
      "count         299312.000000      299312.000000                 299312.000000   \n",
      "unique                  NaN                NaN                           NaN   \n",
      "top                     NaN                NaN                           NaN   \n",
      "freq                    NaN                NaN                           NaN   \n",
      "mean               5.134111          29.858245                     15.110964   \n",
      "std                8.222629          24.885926                     14.917528   \n",
      "min                0.000000           0.000000                      0.000000   \n",
      "25%                0.000000          12.000000                      4.000000   \n",
      "50%                1.000000          30.000000                     12.000000   \n",
      "75%                6.000000          30.000000                     20.000000   \n",
      "max               30.000000         120.000000                    128.000000   \n",
      "\n",
      "        FriedPotato_Consumption  \n",
      "count             299311.000000  \n",
      "unique                      NaN  \n",
      "top                         NaN  \n",
      "freq                        NaN  \n",
      "mean                   6.306450  \n",
      "std                    8.588447  \n",
      "min                    0.000000  \n",
      "25%                    2.000000  \n",
      "50%                    4.000000  \n",
      "75%                    8.000000  \n",
      "max                  128.000000  \n"
     ]
    }
   ],
   "source": [
    "#Statistiques descriptives\n",
    "print(dataset.describe(include='all'))"
   ]
  },
  {
   "cell_type": "markdown",
   "id": "21c96138-9664-488a-8ee0-8cd944ee88a9",
   "metadata": {},
   "source": [
    "<div class=\"alert alert-warning\">\n",
    "<h3>Note</h3>\n",
    "<p>\n",
    "  Les attributs numériques tels que la taille, le poids et l'indice de masse corporelle (BMI) présentent une variabilité significative, avec des écarts-types élevés indiquant une dispersion importante des données autour de la moyenne. Par exemple, la taille moyenne est de 170.72 cm avec un écart-type de 10.65 cm. Les attributs catégoriels tels que l'état de santé général, la pratique d'exercices physiques et les antécédents médicaux montrent une diversité de réponses, avec des valeurs uniques et des fréquences variables. Par exemple, la majorité des individus déclarent avoir une santé générale \"Très bonne\", tandis que la pratique d'exercices est majoritairement signalée comme \"Oui\". Ces statistiques offrent un aperçu précieux de la distribution et de la variabilité des données, ce qui peut être utile pour identifier les tendances et les valeurs aberrantes potentielles dans notre ensemble de données sur les maladies cardiovasculaires.  \n",
    "</p>\n",
    "</div>"
   ]
  },
  {
   "cell_type": "code",
   "execution_count": 17,
   "id": "199723a8-6c4f-4daa-8718-89dd7ef0c056",
   "metadata": {},
   "outputs": [
    {
     "name": "stdout",
     "output_type": "stream",
     "text": [
      "Index(['General_Health', 'Checkup', 'Exercise', 'Heart_Disease', 'Skin_Cancer',\n",
      "       'Other_Cancer', 'Depression', 'Diabetes', 'Arthritis', 'Sex',\n",
      "       'Age_Category', 'Height_(cm)', 'Weight_(kg)', 'BMI', 'Smoking_History',\n",
      "       'Alcohol_Consumption', 'Fruit_Consumption',\n",
      "       'Green_Vegetables_Consumption', 'FriedPotato_Consumption'],\n",
      "      dtype='object')\n"
     ]
    }
   ],
   "source": [
    "print(dataset.columns)"
   ]
  },
  {
   "cell_type": "markdown",
   "id": "75e88307-e44a-4006-9ce9-fb0809bebfa3",
   "metadata": {},
   "source": [
    "##### visualisation\n"
   ]
  },
  {
   "cell_type": "code",
   "execution_count": 18,
   "id": "20dfcd26-3fb2-4410-8dc9-20231e111503",
   "metadata": {},
   "outputs": [
    {
     "name": "stdout",
     "output_type": "stream",
     "text": [
      "Heart_Disease\n",
      "No     275231\n",
      "Yes     24081\n",
      "Name: count, dtype: int64\n"
     ]
    },
    {
     "data": {
      "text/plain": [
       "Text(0.5, 1.0, 'Heart_Disease')"
      ]
     },
     "execution_count": 18,
     "metadata": {},
     "output_type": "execute_result"
    },
    {
     "data": {
      "image/png": "[encoded data removed]",
      "text/plain": [
       "<Figure size 640x480 with 1 Axes>"
      ]
     },
     "metadata": {},
     "output_type": "display_data"
    }
   ],
   "source": [
    "print(dataset[target_column].value_counts())\n",
    "dataset.Heart_Disease.value_counts(normalize=True).plot(kind='bar', alpha=1)\n",
    "plt.title('Heart_Disease')"
   ]
  },
  {
   "cell_type": "code",
   "execution_count": 19,
   "id": "b561f4b0-f9a2-45b1-9230-d8e90e55a9d9",
   "metadata": {},
   "outputs": [
    {
     "data": {
      "image/png": "[encoded data removed]",
      "text/plain": [
       "<Figure size 2000x1400 with 2 Axes>"
      ]
     },
     "metadata": {},
     "output_type": "display_data"
    }
   ],
   "source": [
    "_ = dataset.hist(figsize=(20, 14),bins=30 )"
   ]
  },
  {
   "cell_type": "code",
   "execution_count": null,
   "id": "0ebdd1e2-55b4-4167-ad56-914fcb049725",
   "metadata": {},
   "outputs": [],
   "source": [
    "columns = dataset.columns\n",
    "object_columns = dataset.drop(dataset.columns[3], axis=1).select_dtypes(include='object').columns.tolist()# Print the names of object columns\n",
    "print(object_columns)"
   ]
  },
  {
   "cell_type": "code",
   "execution_count": null,
   "id": "2c3681e2-575e-4e77-b07b-5f83fd125281",
   "metadata": {},
   "outputs": [],
   "source": [
    "#those lines under generate an error\n",
    "sns.countplot(x =target_column , hue = \"General_Health\", data = dataset[:10000])\n",
    "plt.show()"
   ]
  },
  {
   "cell_type": "code",
   "execution_count": null,
   "id": "a25a4a4e-c1ed-40ad-a0ae-b774e75f3f50",
   "metadata": {},
   "outputs": [],
   "source": [
    "sns.countplot(x =target_column , hue = \"Checkup\", data = dataset)\n",
    "plt.show()"
   ]
  },
  {
   "cell_type": "code",
   "execution_count": null,
   "id": "0996b896-c2df-448f-b1eb-032093626eaf",
   "metadata": {},
   "outputs": [],
   "source": [
    "sns.countplot(x =target_column , hue = 'Exercise', data = dataset ,palette = \"Set2\")\n",
    "plt.show()"
   ]
  },
  {
   "cell_type": "code",
   "execution_count": null,
   "id": "e8a7efdb-02d2-457e-a586-63ba8aba6399",
   "metadata": {},
   "outputs": [],
   "source": [
    "sns.countplot(x =target_column , hue = 'Skin_Cancer', data = dataset , palette = \"Pastel2_r\")\n",
    "plt.show()"
   ]
  },
  {
   "cell_type": "code",
   "execution_count": null,
   "id": "fa67e5b3-852a-4c02-85e3-4fb94b8da796",
   "metadata": {},
   "outputs": [],
   "source": [
    "sns.countplot(x =target_column , hue = 'Other_Cancer', data = dataset ,palette = \"PiYG_r\" )\n",
    "plt.show()"
   ]
  },
  {
   "cell_type": "code",
   "execution_count": null,
   "id": "24d60bee-5c56-463e-8247-17666afaa38e",
   "metadata": {},
   "outputs": [],
   "source": [
    "sns.countplot(x =target_column , hue = 'Depression', data = dataset ,palette = \"Spectral\")\n",
    "plt.show()"
   ]
  },
  {
   "cell_type": "code",
   "execution_count": null,
   "id": "930908d8-912e-43a8-8c5c-47e5bf095b38",
   "metadata": {},
   "outputs": [],
   "source": [
    "sns.countplot(x =target_column , hue = 'Diabetes', data = dataset , palette = \"Dark2\")\n",
    "plt.show()"
   ]
  },
  {
   "cell_type": "code",
   "execution_count": null,
   "id": "79bd7b28-a6e1-4136-99b6-2c2008a8ae00",
   "metadata": {},
   "outputs": [],
   "source": [
    "sns.countplot(x =target_column , hue = 'Arthritis', data = dataset , palette = \"Accent_r\")\n",
    "plt.show()"
   ]
  },
  {
   "cell_type": "code",
   "execution_count": null,
   "id": "cb532f34-b494-4bd1-a163-0f045f7dff21",
   "metadata": {},
   "outputs": [],
   "source": [
    "sns.countplot(x =target_column , hue = 'Sex', data = dataset , palette='coolwarm')\n",
    "plt.show()"
   ]
  },
  {
   "cell_type": "code",
   "execution_count": null,
   "id": "c3e6ac15-3083-459e-9e0e-11302599ef6f",
   "metadata": {},
   "outputs": [],
   "source": [
    "sns.countplot(x =target_column , hue = 'Age_Category', data = dataset)\n",
    "plt.show()"
   ]
  },
  {
   "cell_type": "code",
   "execution_count": null,
   "id": "cd3f0c88-be68-454d-a6d6-05f6a775d903",
   "metadata": {},
   "outputs": [],
   "source": [
    "sns.countplot(x =target_column , hue ='Smoking_History', data = dataset , palette='BuPu_r')\n",
    "plt.show()"
   ]
  },
  {
   "cell_type": "code",
   "execution_count": null,
   "id": "3a175553-3580-44cc-aff6-bb87d4de2b56",
   "metadata": {},
   "outputs": [],
   "source": [
    "columns = [\"Fruit_Consumption\" , \"Alcohol_Consumption\" , \"Green_Vegetables_Consumption\" , \"FriedPotato_Consumption\"]\n",
    "_ = sns.pairplot(\n",
    "    data=dataset,\n",
    "    vars=columns,\n",
    "    hue=target_column,\n",
    "    plot_kws={\"alpha\": 0.5},\n",
    "    height=3,\n",
    "    diag_kind=\"hist\",\n",
    "    diag_kws={\"bins\": 30}\n",
    ")"
   ]
  },
  {
   "cell_type": "code",
   "execution_count": null,
   "id": "2b44dbf4-99ec-49d8-b594-84f59fc3fd48",
   "metadata": {},
   "outputs": [],
   "source": [
    "#boite à moustache:\n",
    "dataset.plot(kind='box', figsize=(15,5),x=\"Heart_Disease\", y=[\"Alcohol_Consumption\",\"Fruit_Consumption\",\"Green_Vegetables_Consumption\",\"FriedPotato_Consumption\",\"Height_(cm)\"])\n",
    "plt.show()"
   ]
  },
  {
   "cell_type": "markdown",
   "id": "f7d0b546-acf4-4af5-90ae-5e8037ec5a23",
   "metadata": {},
   "source": [
    "<div class=\"alert alert-info\">\n",
    "<h3>Interpretation</h3>\n",
    "<p>\n",
    "    \n",
    "</p>\n",
    "</div>"
   ]
  },
  {
   "cell_type": "markdown",
   "id": "e8174e55-5a2e-4000-819a-ee2f2cc9fb37",
   "metadata": {},
   "source": [
    "### 2. Nettoyage de données"
   ]
  },
  {
   "cell_type": "code",
   "execution_count": null,
   "id": "185d34d0-00ae-49ed-a094-8b62cca1f1bb",
   "metadata": {},
   "outputs": [],
   "source": []
  }
 ],
 "metadata": {
  "kernelspec": {
   "display_name": "Python 3 (ipykernel)",
   "language": "python",
   "name": "python3"
  },
  "language_info": {
   "codemirror_mode": {
    "name": "ipython",
    "version": 3
   },
   "file_extension": ".py",
   "mimetype": "text/x-python",
   "name": "python",
   "nbconvert_exporter": "python",
   "pygments_lexer": "ipython3",
   "version": "3.12.3"
  }
 },
 "nbformat": 4,
 "nbformat_minor": 5
}
