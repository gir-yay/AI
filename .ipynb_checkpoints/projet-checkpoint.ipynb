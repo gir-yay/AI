{
 "cells": [
  {
   "cell_type": "markdown",
   "id": "f1067f7b-4b71-4ab9-849e-76ae63d138b0",
   "metadata": {},
   "source": [
    "# Mini-projet IA (classification) :  \n",
    "## Risques Cardiovasculaires\n",
    "\n",
    "### 1. Data understanding (compréhension des données) : "
   ]
  },
  {
   "cell_type": "markdown",
   "id": "aab9992c-199e-47e1-84f9-1eb9c03996e9",
   "metadata": {},
   "source": [
    "##### Chargement et affichage des données"
   ]
  },
  {
   "cell_type": "code",
   "execution_count": 1,
   "id": "8218cc81-e363-402f-ab6e-03e38aadf131",
   "metadata": {},
   "outputs": [],
   "source": [
    "import pandas as pd\n",
    "import matplotlib as mpl\n",
    "import matplotlib.pyplot as plt\n",
    "import seaborn as sns\n",
    "import numpy as np\n",
    "\n",
    "from sklearn.neighbors import KNeighborsClassifier\n",
    "from sklearn.model_selection import train_test_split, GridSearchCV\n",
    "from sklearn.metrics import classification_report, confusion_matrix, precision_recall_curve, roc_curve, auc\n",
    "\n",
    "from sklearn.tree import DecisionTreeClassifier\n",
    "from sklearn.linear_model import LogisticRegression\n",
    "\n",
    "from sklearn.svm import SVC\n",
    "from sklearn.preprocessing import StandardScaler\n",
    "from sklearn.metrics import accuracy_score , classification_report\n",
    "import gc"
   ]
  },
  {
   "cell_type": "code",
   "execution_count": 2,
   "id": "7b721c55-b53a-4ac7-9076-61d568cf5f0e",
   "metadata": {
    "scrolled": true
   },
   "outputs": [
    {
     "name": "stdout",
     "output_type": "stream",
     "text": [
      "  General_Health                  Checkup Exercise Heart_Disease Skin_Cancer  \\\n",
      "0           Poor  Within the past 2 years       No            No          No   \n",
      "1      Very Good     Within the past year       No           Yes          No   \n",
      "2      Very Good     Within the past year      Yes            No          No   \n",
      "3           Poor     Within the past year      Yes           Yes          No   \n",
      "4           Good     Within the past year       No            No          No   \n",
      "5           Good     Within the past year       No            No          No   \n",
      "6           Fair     Within the past year      Yes           Yes          No   \n",
      "7           Good     Within the past year      Yes            No          No   \n",
      "8           Fair     Within the past year       No            No          No   \n",
      "9           Fair     Within the past year       No            No          No   \n",
      "\n",
      "  Other_Cancer Depression Diabetes Arthritis     Sex Age_Category  \\\n",
      "0           No         No       No       Yes  Female        70-74   \n",
      "1           No         No      Yes        No  Female        70-74   \n",
      "2           No         No      Yes        No  Female        60-64   \n",
      "3           No         No      Yes        No    Male        75-79   \n",
      "4           No         No       No        No    Male          80+   \n",
      "5           No        Yes       No       Yes    Male        60-64   \n",
      "6           No         No       No       Yes    Male        60-64   \n",
      "7           No         No       No       Yes  Female        65-69   \n",
      "8           No        Yes       No        No  Female        65-69   \n",
      "9           No         No      Yes       Yes  Female        70-74   \n",
      "\n",
      "   Height_(cm) Weight_(kg)    BMI Smoking_History  Alcohol_Consumption  \\\n",
      "0        150.0       32.66  14.54             Yes                  0.0   \n",
      "1        165.0       77.11  28.29              No                  0.0   \n",
      "2        163.0       88.45  33.47              No                  4.0   \n",
      "3        180.0       93.44  28.73              No                  0.0   \n",
      "4        191.0       88.45  24.37             Yes                  0.0   \n",
      "5        183.0      154.22  46.11              No                  0.0   \n",
      "6        175.0       69.85  22.74             Yes                  0.0   \n",
      "7        165.0      108.86  39.94             Yes                  3.0   \n",
      "8        163.0       72.57  27.46             Yes                  0.0   \n",
      "9        163.0       91.63  34.67              No                  0.0   \n",
      "\n",
      "   Fruit_Consumption  Green_Vegetables_Consumption  FriedPotato_Consumption  \n",
      "0               30.0                          16.0                     12.0  \n",
      "1               30.0                           0.0                      4.0  \n",
      "2               12.0                           3.0                     16.0  \n",
      "3               30.0                          30.0                      8.0  \n",
      "4                8.0                           4.0                      0.0  \n",
      "5               12.0                          12.0                     12.0  \n",
      "6               16.0                           8.0                      0.0  \n",
      "7               30.0                           8.0                      8.0  \n",
      "8               12.0                          12.0                      4.0  \n",
      "9               12.0                          12.0                      1.0  \n"
     ]
    }
   ],
   "source": [
    "#Chargement des données\n",
    "dataset = pd.read_csv(\"Cardiovascular_Diseases.csv\" ,sep=',' ,low_memory=False)\n",
    "target_column = \"Heart_Disease\"\n",
    "\n",
    "#Affichage des données\n",
    "print(dataset.head(10))"
   ]
  },
  {
   "cell_type": "markdown",
   "id": "83348bc1-80ab-47bf-ac72-5d89a2148b2b",
   "metadata": {},
   "source": [
    "##### Description"
   ]
  },
  {
   "cell_type": "code",
   "execution_count": null,
   "id": "fd4940fc-392d-4392-972f-8d220181f23d",
   "metadata": {},
   "outputs": [],
   "source": [
    "#volume : nombre total d'instances\n",
    "#dimension : nombre total des attributs\n",
    "\n",
    "print(\"(volume , dimension) =\" ,dataset.shape)"
   ]
  },
  {
   "cell_type": "code",
   "execution_count": null,
   "id": "76d72603-152a-4852-8522-046f8025c32a",
   "metadata": {},
   "outputs": [],
   "source": [
    "#Informations sur les types  et le  codage de données \n",
    "dataset.dtypes"
   ]
  },
  {
   "cell_type": "code",
   "execution_count": null,
   "id": "2bf5bcba-ae0c-4824-8afa-db2345733c5a",
   "metadata": {},
   "outputs": [],
   "source": [
    "#Informations sur le dataset\n",
    "dataset.info()"
   ]
  },
  {
   "cell_type": "markdown",
   "id": "d14f489f-38ef-49e6-8669-ce2e4725672d",
   "metadata": {},
   "source": [
    "<div class=\"alert alert-info\">\n",
    "<h3>Note</h3>\n",
    "<p>\n",
    "    BMI et le Weight_(kg) sont considérés des objets , donc il faut les transformer en valeur numérique.\n",
    "</p>\n",
    "</div>"
   ]
  },
  {
   "cell_type": "code",
   "execution_count": null,
   "id": "d7c505c3-20f4-455a-821f-08a85277964c",
   "metadata": {},
   "outputs": [],
   "source": [
    "#Statistiques descriptives\n",
    "print(dataset.describe(include='all'))"
   ]
  },
  {
   "cell_type": "markdown",
   "id": "21c96138-9664-488a-8ee0-8cd944ee88a9",
   "metadata": {},
   "source": [
    "<div class=\"alert alert-warning\">\n",
    "<h3>Note</h3>\n",
    "<p>\n",
    "  Les attributs numériques tels que la taille, le poids et l'indice de masse corporelle (BMI) présentent une variabilité significative, avec des écarts-types élevés indiquant une dispersion importante des données autour de la moyenne. Par exemple, la taille moyenne est de 170.72 cm avec un écart-type de 10.65 cm. Les attributs catégoriels tels que l'état de santé général, la pratique d'exercices physiques et les antécédents médicaux montrent une diversité de réponses, avec des valeurs uniques et des fréquences variables. Par exemple, la majorité des individus déclarent avoir une santé générale \"Très bonne\", tandis que la pratique d'exercices est majoritairement signalée comme \"Oui\". Ces statistiques offrent un aperçu précieux de la distribution et de la variabilité des données, ce qui peut être utile pour identifier les tendances et les valeurs aberrantes potentielles dans notre ensemble de données sur les maladies cardiovasculaires.  \n",
    "</p>\n",
    "</div>"
   ]
  },
  {
   "cell_type": "code",
   "execution_count": null,
   "id": "199723a8-6c4f-4daa-8718-89dd7ef0c056",
   "metadata": {},
   "outputs": [],
   "source": [
    "print(dataset.columns)"
   ]
  },
  {
   "cell_type": "markdown",
   "id": "75e88307-e44a-4006-9ce9-fb0809bebfa3",
   "metadata": {},
   "source": [
    "##### visualisation\n"
   ]
  },
  {
   "cell_type": "code",
   "execution_count": null,
   "id": "20dfcd26-3fb2-4410-8dc9-20231e111503",
   "metadata": {},
   "outputs": [],
   "source": [
    "print(dataset[target_column].value_counts())\n",
    "dataset.Heart_Disease.value_counts(normalize=True).plot(kind='bar', alpha=1)\n",
    "plt.title('Distribution de Heart_Disease')"
   ]
  },
  {
   "cell_type": "markdown",
   "id": "a8864ed4-7723-4f8a-ba11-c209d7bcbe1e",
   "metadata": {},
   "source": [
    "<div class=\"alert alert-warning\">\n",
    "<h3>Note</h3>\n",
    "<p>\n",
    "Le graphique montre clairement un déséquilibre significatif dans les données concernant les maladies cardiaques. La catégorie des non malades est nettement plus représentée que celle des malades. Il est important de prendre en compte ce déséquilibre lors de l'analyse des résultats et des performances des modèles prédictifs, car cela peut avoir un impact sur la capacité du modèle à généraliser correctement.  \n",
    "</p>\n",
    "</div>"
   ]
  },
  {
   "cell_type": "code",
   "execution_count": null,
   "id": "b561f4b0-f9a2-45b1-9230-d8e90e55a9d9",
   "metadata": {},
   "outputs": [],
   "source": [
    "#Répartition des variables dans le dataset\n",
    "_ = dataset.hist(figsize=(20, 14),bins=30 )"
   ]
  },
  {
   "cell_type": "code",
   "execution_count": null,
   "id": "95b6eacc-0402-4d82-b8a1-3ee376e46a05",
   "metadata": {},
   "outputs": [],
   "source": [
    "#alcohol consumption by heart disease\n",
    "_ = dataset.hist(figsize=(20, 14),bins=30 ,column='Alcohol_Consumption', by='Heart_Disease')"
   ]
  },
  {
   "cell_type": "code",
   "execution_count": null,
   "id": "d0285c4b-f3c4-4484-8931-55e1dc3c633e",
   "metadata": {},
   "outputs": [],
   "source": [
    "#FriedPotato Consumption by Heart_Disease\n",
    "_ = dataset.hist(figsize=(20, 14),bins=30 ,column='FriedPotato_Consumption', by='Heart_Disease')"
   ]
  },
  {
   "cell_type": "code",
   "execution_count": null,
   "id": "132f4638-789b-4b91-9f7e-980bb822acda",
   "metadata": {},
   "outputs": [],
   "source": [
    "#Répartition de l'état de santé général en fonction des maladies cardiaques\n",
    "_ = dataset.hist(figsize=(20, 14),bins=30 ,column='General_Health', by='Heart_Disease')"
   ]
  },
  {
   "cell_type": "code",
   "execution_count": null,
   "id": "0ebdd1e2-55b4-4167-ad56-914fcb049725",
   "metadata": {},
   "outputs": [],
   "source": [
    "#Identification des colonnes de type objet dans le dataset\n",
    "columns = dataset.columns\n",
    "object_columns = dataset.drop(dataset.columns[3], axis=1).select_dtypes(include='object').columns.tolist()\n",
    "print(object_columns)"
   ]
  },
  {
   "cell_type": "code",
   "execution_count": null,
   "id": "a25a4a4e-c1ed-40ad-a0ae-b774e75f3f50",
   "metadata": {},
   "outputs": [],
   "source": [
    "#Checkups by heart disease\n",
    "sns.countplot(x =target_column , hue = \"Checkup\", data = dataset)\n",
    "plt.show()"
   ]
  },
  {
   "cell_type": "markdown",
   "id": "4a0f752e-b476-4b79-9bc2-bbc009563b28",
   "metadata": {},
   "source": [
    "<div class=\"alert alert-info\">\n",
    "<h3>Intérpretation</h3>\n",
    "<p>\n",
    "  Malgré le déséquilibre de l'échantillon, avec un nombre beaucoup plus élevé de personnes non malades, on observe que la majorité des personnes, qu'elles soient malades ou non, font de l'exercice.\n",
    "\n",
    "</p>\n",
    "</div>"
   ]
  },
  {
   "cell_type": "code",
   "execution_count": null,
   "id": "0996b896-c2df-448f-b1eb-032093626eaf",
   "metadata": {},
   "outputs": [],
   "source": [
    "#la répartition des personnes selon leur pratique d'exercice\n",
    "sns.countplot(x =target_column , hue = 'Exercise', data = dataset ,palette = \"Set2\")\n",
    "plt.show()"
   ]
  },
  {
   "cell_type": "code",
   "execution_count": null,
   "id": "e8a7efdb-02d2-457e-a586-63ba8aba6399",
   "metadata": {},
   "outputs": [],
   "source": [
    "# la répartition des maladies cardiaques en fonction du cancer de la peau\n",
    "sns.countplot(x =target_column , hue = 'Skin_Cancer', data = dataset , palette = \"Pastel2_r\")\n",
    "plt.show()"
   ]
  },
  {
   "cell_type": "code",
   "execution_count": null,
   "id": "fa67e5b3-852a-4c02-85e3-4fb94b8da796",
   "metadata": {},
   "outputs": [],
   "source": [
    "# la répartition des maladies cardiaques en fonction des autres types de cancer\n",
    "sns.countplot(x =target_column , hue = 'Other_Cancer', data = dataset ,palette = \"PiYG_r\" )\n",
    "plt.show()"
   ]
  },
  {
   "cell_type": "code",
   "execution_count": null,
   "id": "24d60bee-5c56-463e-8247-17666afaa38e",
   "metadata": {},
   "outputs": [],
   "source": [
    "# la répartition des maladies cardiaques en fonction des maladies de dépression\n",
    "sns.countplot(x =target_column , hue = 'Depression', data = dataset ,palette = \"Spectral\")\n",
    "plt.show()"
   ]
  },
  {
   "cell_type": "code",
   "execution_count": null,
   "id": "930908d8-912e-43a8-8c5c-47e5bf095b38",
   "metadata": {},
   "outputs": [],
   "source": [
    "# la répartition des maladies cardiaques en fonction du diabete\n",
    "sns.countplot(x =target_column , hue = 'Diabetes', data = dataset , palette = \"Dark2\")\n",
    "plt.show()"
   ]
  },
  {
   "cell_type": "code",
   "execution_count": null,
   "id": "79bd7b28-a6e1-4136-99b6-2c2008a8ae00",
   "metadata": {},
   "outputs": [],
   "source": [
    "#Distribution des cas d'arthrite selon la présence ou l'absence de maladies cardiaques\n",
    "sns.countplot(x =target_column , hue = 'Arthritis', data = dataset , palette = \"Accent_r\")\n",
    "plt.show()"
   ]
  },
  {
   "cell_type": "code",
   "execution_count": null,
   "id": "cb532f34-b494-4bd1-a163-0f045f7dff21",
   "metadata": {},
   "outputs": [],
   "source": [
    "## la répartition des maladies cardiaques selon le sexe\n",
    "sns.countplot(x =target_column , hue = 'Sex', data = dataset , palette='coolwarm')\n",
    "plt.show()"
   ]
  },
  {
   "cell_type": "code",
   "execution_count": null,
   "id": "c3e6ac15-3083-459e-9e0e-11302599ef6f",
   "metadata": {},
   "outputs": [],
   "source": [
    "## la répartition des maladies cardiaques selon l'age\n",
    "sns.countplot(x =target_column , hue = 'Age_Category', data = dataset)\n",
    "plt.show()"
   ]
  },
  {
   "cell_type": "code",
   "execution_count": null,
   "id": "cd3f0c88-be68-454d-a6d6-05f6a775d903",
   "metadata": {},
   "outputs": [],
   "source": [
    "#Répartition des antécédents de tabagisme selon la présence de maladie cardiaque\n",
    "sns.countplot(x =target_column , hue ='Smoking_History', data = dataset , palette='BuPu_r')\n",
    "plt.show()"
   ]
  },
  {
   "cell_type": "code",
   "execution_count": null,
   "id": "3a175553-3580-44cc-aff6-bb87d4de2b56",
   "metadata": {},
   "outputs": [],
   "source": [
    "#Visualisatio des corrélations entre les habitudes alimentaires et la maladie cardiaque\n",
    "columns = [\"Fruit_Consumption\" , \"Alcohol_Consumption\" , \"Green_Vegetables_Consumption\" , \"FriedPotato_Consumption\" ]\n",
    "_ = sns.pairplot(\n",
    "    data=dataset,\n",
    "    vars=columns,\n",
    "    hue=target_column,\n",
    "    plot_kws={\"alpha\": 0.5},\n",
    "    height=3,\n",
    "    diag_kind=\"hist\",\n",
    "    diag_kws={\"bins\": 30}\n",
    ")"
   ]
  },
  {
   "cell_type": "code",
   "execution_count": null,
   "id": "2b44dbf4-99ec-49d8-b594-84f59fc3fd48",
   "metadata": {},
   "outputs": [],
   "source": [
    "#Boite à moustache:\n",
    "#dataset.plot(kind='box', figsize=(15,5),x=\"Heart_Disease\", y=[\"Alcohol_Consumption\",\"Fruit_Consumption\",\"Green_Vegetables_Consumption\",\"FriedPotato_Consumption\",\"Height_(cm)\"])\n",
    "#plt.show()\n",
    "quantis = dataset.select_dtypes(include=['float64'])\n",
    "plt.figure(figsize=(12, 8))\n",
    "\n",
    "# Utilisation de la palette de couleurs de seaborn\n",
    "sns.set_palette(\"Set3\")\n",
    "\n",
    "# Utilisation de la fonction boxplot de seaborn\n",
    "sns.boxplot(data=quantis, orient='v', width=0.5, fliersize=5)\n",
    "\n",
    "# Rotation des labels sur l'axe des x pour une meilleure lisibilité\n",
    "plt.xticks(rotation=45, fontsize=12)\n",
    "\n",
    "plt.title(\"Boxplot des variables quantitatives\", fontsize=16)\n",
    "plt.ylabel(\"Valeurs\", fontsize=14)\n",
    "plt.xlabel(\"Variables\", fontsize=14)\n",
    "\n",
    "# Ajout d'une grille pour une meilleure lisibilité\n",
    "plt.grid(axis='y', linestyle='--', alpha=0.7)\n",
    "# Personnalisation des axes\n",
    "plt.tick_params(axis='both', which='major', labelsize=12)\n",
    "\n",
    "plt.show()"
   ]
  },
  {
   "cell_type": "markdown",
   "id": "f4673ca3-a89c-44ef-9e73-dd8d3201e4c8",
   "metadata": {},
   "source": [
    "<div class=\"alert alert-info\">\n",
    "<h3>Interpretation</h3>\n",
    "<p>\n",
    "Ce boxplot permet de visualiser la distribution des variables quantitatives présentes dans le dataset. Chaque boîte représente la médiane et les quartiles de la distribution des valeurs pour une variable donnée. La longueur de la boîte indique la dispersion des données, tandis que les moustaches (ligne verticale avec des barres) montrent l'étendue des données, à l'exclusion des valeurs aberrantes qui sont représentées par des points individuels au-delà des moustaches.\n",
    "</p>\n",
    "</div>"
   ]
  },
  {
   "cell_type": "code",
   "execution_count": null,
   "id": "2ff39776-26db-44a9-8a99-d8911212e545",
   "metadata": {},
   "outputs": [],
   "source": [
    "# Correlation Heatmap visualization code\n",
    "plt.figure(figsize=(12,6))\n",
    "corr=quantis.corr()\n",
    "sns.heatmap(corr,annot=True)"
   ]
  },
  {
   "cell_type": "markdown",
   "id": "f7d0b546-acf4-4af5-90ae-5e8037ec5a23",
   "metadata": {},
   "source": [
    "<div class=\"alert alert-info\">\n",
    "<h3>Interpretation</h3>\n",
    "<p>\n",
    "     Les couleurs de la heatmap indiquent le degré de corrélation : les valeurs proches de 1 sont représentées par des nuances de mauve claires, indiquant une corrélation positive forte où les variables augmentent ensemble, tandis que les valeurs proches de -1 sont représentées par des nuances de mauve plus foncées, indiquant une corrélation négative forte où une variable augmente pendant que l'autre diminue. Les cases noires ou très foncées indiquent une faible corrélation, suggérant que les variables sont indépendantes.\n",
    "</p>\n",
    "</div>"
   ]
  },
  {
   "cell_type": "markdown",
   "id": "e8174e55-5a2e-4000-819a-ee2f2cc9fb37",
   "metadata": {},
   "source": [
    "### 2. Nettoyage de données"
   ]
  },
  {
   "cell_type": "markdown",
   "id": "94530e73-768b-4e49-b3a8-3d2c1baa89a0",
   "metadata": {},
   "source": [
    "##### Probleme de toute la ligne dans une seule colonne\n",
    "![problem](./data_prob.png)"
   ]
  },
  {
   "cell_type": "code",
   "execution_count": null,
   "id": "5113fb23-beb2-4a5c-b1f6-4ff331e301aa",
   "metadata": {},
   "outputs": [],
   "source": [
    "# Visualizing the missing values using heatmap\n",
    "plt.figure(figsize=(10,6))\n",
    "sns.heatmap(dataset.isnull())\n",
    "plt.show()"
   ]
  },
  {
   "cell_type": "code",
   "execution_count": null,
   "id": "5eaec3d3-bf27-42a3-8ec0-80be6d8591d3",
   "metadata": {},
   "outputs": [],
   "source": [
    "print(dataset.isnull().sum())"
   ]
  },
  {
   "cell_type": "markdown",
   "id": "d5aefd79-b757-42de-9739-9a7f6347bc3c",
   "metadata": {},
   "source": [
    "#### solution"
   ]
  },
  {
   "cell_type": "code",
   "execution_count": 3,
   "id": "2ef1c2a5-3ff2-41d1-bfd8-21704b0ff1aa",
   "metadata": {},
   "outputs": [
    {
     "name": "stdout",
     "output_type": "stream",
     "text": [
      "General_Health                   object\n",
      "Checkup                          object\n",
      "Exercise                         object\n",
      "Heart_Disease                    object\n",
      "Skin_Cancer                      object\n",
      "Other_Cancer                     object\n",
      "Depression                       object\n",
      "Diabetes                         object\n",
      "Arthritis                        object\n",
      "Sex                              object\n",
      "Age_Category                     object\n",
      "Height_(cm)                     float64\n",
      "Weight_(kg)                      object\n",
      "BMI                              object\n",
      "Smoking_History                  object\n",
      "Alcohol_Consumption             float64\n",
      "Fruit_Consumption               float64\n",
      "Green_Vegetables_Consumption    float64\n",
      "FriedPotato_Consumption         float64\n",
      "dtype: object\n"
     ]
    }
   ],
   "source": [
    "\n",
    "data = dataset.copy()\n",
    "\n",
    "# Filtrer les lignes avec des valeurs multiples dans la colonne 'General_Health'\n",
    "multi_values_rows = data[data['General_Health'].str.contains(',')]\n",
    "for index, row in multi_values_rows.iterrows():\n",
    "    values = row['General_Health'].split(',')\n",
    "    # Vérifier et combiner les valeurs pour la colonne 'Diabetes'\n",
    "    if values[7].startswith('\"') and values[8].endswith('\"'):\n",
    "        combined_diabetes = values[7].strip('\"') + ',' + values[8].strip('\"')\n",
    "        # Déplacer les valeurs suivantes\n",
    "        values = values[:7] + [combined_diabetes] + values[9:]\n",
    "    \n",
    "    # Distribution sur les autres colonnes\n",
    "    data.at[index, 'General_Health'] = values[0]\n",
    "    data.at[index, 'Checkup'] = values[1]\n",
    "    data.at[index, 'Exercise'] = values[2]\n",
    "    data.at[index, 'Heart_Disease'] = values[3]\n",
    "    data.at[index, 'Skin_Cancer'] = values[4]\n",
    "    data.at[index, 'Other_Cancer'] = values[5]\n",
    "    data.at[index, 'Depression'] = values[6]\n",
    "    data.at[index, 'Diabetes'] = values[7]\n",
    "    data.at[index, 'Arthritis'] = values[8]\n",
    "    data.at[index, 'Sex'] = values[9]\n",
    "    data.at[index, 'Age_Category'] = values[10]\n",
    "    \n",
    "    # Cast to appropriate types\n",
    "    data.at[index, 'Height_(cm)'] = float(values[11])\n",
    "    data.at[index, 'Weight_(kg)'] = float(values[12])\n",
    "    data.at[index, 'BMI'] = float(values[13])\n",
    "    data.at[index, 'Smoking_History'] = values[14]\n",
    "    data.at[index, 'Alcohol_Consumption'] = float(values[15])\n",
    "    data.at[index, 'Fruit_Consumption'] = float(values[16])\n",
    "    data.at[index, 'Green_Vegetables_Consumption'] = float(values[17])\n",
    "    data.at[index, 'FriedPotato_Consumption'] = float(values[18])\n",
    "\n",
    "print(data.dtypes)"
   ]
  },
  {
   "cell_type": "code",
   "execution_count": null,
   "id": "8c80ce04-bd7c-4498-b2c3-850149f169cf",
   "metadata": {},
   "outputs": [],
   "source": [
    "# Visualizing the missing values using heatmap after the processing\n",
    "plt.figure(figsize=(10,6))\n",
    "sns.heatmap(data.isnull())\n",
    "plt.show()\n",
    "\n",
    "# valeurs null apres:\n",
    "print(data.isnull().sum())\n"
   ]
  },
  {
   "cell_type": "markdown",
   "id": "bff257a4-9c71-4724-9db9-6970a618f990",
   "metadata": {},
   "source": [
    "#### Supression des Doublons"
   ]
  },
  {
   "cell_type": "code",
   "execution_count": 4,
   "id": "53eaf524-d865-466f-9679-1adfbac69f47",
   "metadata": {},
   "outputs": [
    {
     "name": "stdout",
     "output_type": "stream",
     "text": [
      "Nombre de doublons avant suppression:  80\n",
      "Nombre de doublons après suppression:  0\n"
     ]
    }
   ],
   "source": [
    "# Afficher le nombre de doublons\n",
    "print(\"Nombre de doublons avant suppression: \", data.duplicated().sum())\n",
    "\n",
    "# Supprimer les doublons\n",
    "clean = data.drop_duplicates()\n",
    "\n",
    "# Afficher le nombre de doublons après suppression\n",
    "print(\"Nombre de doublons après suppression: \", clean.duplicated().sum())\n"
   ]
  },
  {
   "cell_type": "markdown",
   "id": "d61a08c1-0f27-4853-bcc9-dcf52f60af18",
   "metadata": {},
   "source": [
    "#### Transformer le poids et le BMI à float"
   ]
  },
  {
   "cell_type": "code",
   "execution_count": 5,
   "id": "4d5e3717-64c6-4ace-bb62-478e5d1e5ca2",
   "metadata": {},
   "outputs": [
    {
     "name": "stdout",
     "output_type": "stream",
     "text": [
      "General_Health                   object\n",
      "Checkup                          object\n",
      "Exercise                         object\n",
      "Heart_Disease                    object\n",
      "Skin_Cancer                      object\n",
      "Other_Cancer                     object\n",
      "Depression                       object\n",
      "Diabetes                         object\n",
      "Arthritis                        object\n",
      "Sex                              object\n",
      "Age_Category                     object\n",
      "Height_(cm)                     float64\n",
      "Weight_(kg)                     float64\n",
      "BMI                             float64\n",
      "Smoking_History                  object\n",
      "Alcohol_Consumption             float64\n",
      "Fruit_Consumption               float64\n",
      "Green_Vegetables_Consumption    float64\n",
      "FriedPotato_Consumption         float64\n",
      "dtype: object\n",
      "\n",
      "\n",
      "\n",
      "General_Health                   0\n",
      "Checkup                          0\n",
      "Exercise                         0\n",
      "Heart_Disease                    0\n",
      "Skin_Cancer                      0\n",
      "Other_Cancer                     0\n",
      "Depression                       0\n",
      "Diabetes                         0\n",
      "Arthritis                        0\n",
      "Sex                              0\n",
      "Age_Category                     0\n",
      "Height_(cm)                     25\n",
      "Weight_(kg)                      2\n",
      "BMI                              1\n",
      "Smoking_History                  0\n",
      "Alcohol_Consumption              0\n",
      "Fruit_Consumption                0\n",
      "Green_Vegetables_Consumption     0\n",
      "FriedPotato_Consumption          1\n",
      "dtype: int64\n"
     ]
    }
   ],
   "source": [
    "# transform weight and height to numerical values\n",
    "trans = clean.copy()\n",
    "trans['Weight_(kg)'] = trans['Weight_(kg)'].replace(' ', np.nan)\n",
    "trans['BMI'] = trans['BMI'].replace(' ', np.nan)\n",
    "\n",
    "# Convert columns to numeric, coercing errors to NaN\n",
    "trans['Weight_(kg)'] = pd.to_numeric(trans['Weight_(kg)'], errors='coerce')\n",
    "trans['BMI'] = pd.to_numeric(trans['BMI'], errors='coerce')\n",
    "\n",
    "print(trans.dtypes)\n",
    "print('\\n\\n')\n",
    "print(trans.isnull().sum())"
   ]
  },
  {
   "cell_type": "markdown",
   "id": "d00b6b44-6b7a-49c4-bb77-da093c536647",
   "metadata": {},
   "source": [
    "#### Traitement des Valeurs manquantes"
   ]
  },
  {
   "cell_type": "code",
   "execution_count": 6,
   "id": "eb2dddd2-026d-4a14-987a-f969fb31abe6",
   "metadata": {},
   "outputs": [
    {
     "name": "stdout",
     "output_type": "stream",
     "text": [
      "General_Health                  0\n",
      "Checkup                         0\n",
      "Exercise                        0\n",
      "Heart_Disease                   0\n",
      "Skin_Cancer                     0\n",
      "Other_Cancer                    0\n",
      "Depression                      0\n",
      "Diabetes                        0\n",
      "Arthritis                       0\n",
      "Sex                             0\n",
      "Age_Category                    0\n",
      "Height_(cm)                     0\n",
      "Weight_(kg)                     1\n",
      "BMI                             1\n",
      "Smoking_History                 0\n",
      "Alcohol_Consumption             0\n",
      "Fruit_Consumption               0\n",
      "Green_Vegetables_Consumption    0\n",
      "FriedPotato_Consumption         1\n",
      "dtype: int64\n"
     ]
    }
   ],
   "source": [
    "#Recalculate the height(m) and the weight(kg)\n",
    "# Convert height from cm to meters\n",
    "trans['Height_(m)'] = trans['Height_(cm)'] / 100\n",
    "\n",
    "# Recalculate missing height (cm) from weight and BMI\n",
    "trans.loc[trans['Height_(cm)'].isna(), 'Height_(cm)'] = np.sqrt(\n",
    "    trans['Weight_(kg)'] / trans['BMI']\n",
    ") * 100\n",
    "\n",
    "trans.loc[trans['Height_(m)'].isna(), 'Height_(m)'] = np.sqrt(\n",
    "    trans['Weight_(kg)'] / trans['BMI']\n",
    ")\n",
    "\n",
    "# Recalculate missing weight (kg) from height and BMI\n",
    "trans.loc[trans['Weight_(kg)'].isna(), 'Weight_(kg)'] = (\n",
    "    trans['BMI'] * (trans['Height_(m)'] ** 2)\n",
    ")\n",
    "\n",
    "trans = trans.drop(columns=['Height_(m)'])\n",
    "print(trans.isnull().sum())\n"
   ]
  },
  {
   "cell_type": "code",
   "execution_count": 7,
   "id": "51bcc330-4fc8-4dc2-a539-90c86215f471",
   "metadata": {},
   "outputs": [
    {
     "name": "stdout",
     "output_type": "stream",
     "text": [
      "\n",
      "Nombre de valeurs manquantes avant traitement: \n",
      "General_Health                  0\n",
      "Checkup                         0\n",
      "Exercise                        0\n",
      "Heart_Disease                   0\n",
      "Skin_Cancer                     0\n",
      "Other_Cancer                    0\n",
      "Depression                      0\n",
      "Diabetes                        0\n",
      "Arthritis                       0\n",
      "Sex                             0\n",
      "Age_Category                    0\n",
      "Height_(cm)                     0\n",
      "Weight_(kg)                     1\n",
      "BMI                             1\n",
      "Smoking_History                 0\n",
      "Alcohol_Consumption             0\n",
      "Fruit_Consumption               0\n",
      "Green_Vegetables_Consumption    0\n",
      "FriedPotato_Consumption         1\n",
      "dtype: int64\n",
      "\n",
      "Nombre de valeurs manquantes après traitement: \n",
      "General_Health                  0\n",
      "Checkup                         0\n",
      "Exercise                        0\n",
      "Heart_Disease                   0\n",
      "Skin_Cancer                     0\n",
      "Other_Cancer                    0\n",
      "Depression                      0\n",
      "Diabetes                        0\n",
      "Arthritis                       0\n",
      "Sex                             0\n",
      "Age_Category                    0\n",
      "Height_(cm)                     0\n",
      "Weight_(kg)                     0\n",
      "BMI                             0\n",
      "Smoking_History                 0\n",
      "Alcohol_Consumption             0\n",
      "Fruit_Consumption               0\n",
      "Green_Vegetables_Consumption    0\n",
      "FriedPotato_Consumption         0\n",
      "dtype: int64\n"
     ]
    }
   ],
   "source": [
    "#suppression des 3 lignes restants\n",
    "print(\"\\nNombre de valeurs manquantes avant traitement: \")\n",
    "print(trans.isnull().sum())\n",
    "#Delete the rows with missing values\n",
    "no_null = trans.dropna()\n",
    "# Afficher le nombre de valeurs manquantes après traitement\n",
    "print(\"\\nNombre de valeurs manquantes après traitement: \")\n",
    "print(no_null.isnull().sum())"
   ]
  },
  {
   "cell_type": "code",
   "execution_count": null,
   "id": "9f77414a-4acb-4737-8dd1-12eb7bef7811",
   "metadata": {},
   "outputs": [],
   "source": [
    "no_null.shape"
   ]
  },
  {
   "cell_type": "markdown",
   "id": "4411771c-513a-43b8-8a90-75ca4940fb09",
   "metadata": {},
   "source": [
    "#### Valeurs aberrantes"
   ]
  },
  {
   "cell_type": "code",
   "execution_count": 8,
   "id": "e12db503-5e87-47b0-bbce-9e566e959f31",
   "metadata": {},
   "outputs": [
    {
     "data": {
      "image/png": "[encoded data removed]",
      "text/plain": [
       "<Figure size 1200x800 with 1 Axes>"
      ]
     },
     "metadata": {},
     "output_type": "display_data"
    }
   ],
   "source": [
    "plt.figure(figsize=(12, 8))\n",
    "# Utilisation de la palette de couleurs de seaborn\n",
    "sns.set_palette(\"Set3\")\n",
    "# Utilisation de la fonction boxplot de seaborn\n",
    "sns.boxplot(data=draft, orient='v', width=0.5, fliersize=5)\n",
    "\n",
    "# Rotation des labels sur l'axe des x pour une meilleure lisibilité\n",
    "plt.xticks(rotation=45, fontsize=12)\n",
    "\n",
    "plt.title(\"Boxplot des variables quantitatives\", fontsize=16)\n",
    "plt.ylabel(\"Valeurs\", fontsize=14)\n",
    "plt.xlabel(\"Variables\", fontsize=14)\n",
    "\n",
    "# Ajout d'une grille pour une meilleure lisibilité\n",
    "plt.grid(axis='y', linestyle='--', alpha=0.7)\n",
    "\n",
    "# Personnalisation des axes\n",
    "plt.tick_params(axis='both', which='major', labelsize=12)\n",
    "\n",
    "plt.show()"
   ]
  },
  {
   "cell_type": "code",
   "execution_count": 9,
   "id": "edf4d264-6430-415e-bc3c-45ff615e1216",
   "metadata": {},
   "outputs": [],
   "source": [
    "#traitement des valeurs aberrantes:\n",
    "#Height_(cm)\n",
    "q1=draft[\"Height_(cm)\"].quantile(q=0.25)\n",
    "q3=draft[\"Height_(cm)\"].quantile(q=0.75)\n",
    "IQR=q3-q1\n",
    "borne_inf = q1-1.5*IQR\n",
    "borne_sup = q3 +1.5*IQR\n",
    "draft= draft[draft[\"Height_(cm)\"]<borne_sup]\n",
    "draft=draft[draft[\"Height_(cm)\"]>borne_inf]"
   ]
  },
  {
   "cell_type": "code",
   "execution_count": 10,
   "id": "af4c813a-d263-4aad-9dd1-1912b932f875",
   "metadata": {},
   "outputs": [],
   "source": [
    "#Weight_(kg)\n",
    "q1=draft[\"Weight_(kg)\"].quantile(q=0.25)\n",
    "q3=draft[\"Weight_(kg)\"].quantile(q=0.75)\n",
    "IQR=q3-q1\n",
    "borne_inf = q1-1.5*IQR\n",
    "borne_sup = q3 +1.5*IQR\n",
    "draft= draft[draft[\"Weight_(kg)\"]<borne_sup]\n",
    "draft=draft[draft[\"Weight_(kg)\"]>borne_inf]"
   ]
  },
  {
   "cell_type": "code",
   "execution_count": 11,
   "id": "0921be92-f39e-4a12-a5f5-981fbbd39db4",
   "metadata": {},
   "outputs": [],
   "source": [
    "#BMI\n",
    "q1=draft[\"BMI\"].quantile(q=0.25)\n",
    "q3=draft[\"BMI\"].quantile(q=0.75)\n",
    "IQR=q3-q1\n",
    "borne_inf = q1-1.5*IQR\n",
    "borne_sup = q3 +1.5*IQR\n",
    "draft= draft[draft[\"BMI\"]<borne_sup]\n",
    "draft=draft[draft[\"BMI\"]>borne_inf]"
   ]
  },
  {
   "cell_type": "code",
   "execution_count": 12,
   "id": "bbb3b5f4-4963-4bbc-a66d-80466950d891",
   "metadata": {},
   "outputs": [],
   "source": [
    "#Alcohol_Consumption\n",
    "q1=draft[\"Alcohol_Consumption\"].quantile(q=0.25)\n",
    "q3=draft[\"Alcohol_Consumption\"].quantile(q=0.75)\n",
    "IQR=q3-q1\n",
    "borne_inf = q1-1.5*IQR\n",
    "borne_sup = q3 +1.5*IQR\n",
    "draft= draft[draft[\"Alcohol_Consumption\"]<borne_sup]\n",
    "draft=draft[draft[\"Alcohol_Consumption\"]>borne_inf]"
   ]
  },
  {
   "cell_type": "code",
   "execution_count": 13,
   "id": "d219b036-fcbb-48c3-a689-e890d5d23b89",
   "metadata": {},
   "outputs": [],
   "source": [
    "#Fruit_Consumption\n",
    "q1=draft[\"Fruit_Consumption\"].quantile(q=0.25)\n",
    "q3=draft[\"Fruit_Consumption\"].quantile(q=0.75)\n",
    "IQR=q3-q1\n",
    "borne_inf = q1-1.5*IQR\n",
    "borne_sup = q3 +1.5*IQR\n",
    "draft= draft[draft[\"Fruit_Consumption\"]<borne_sup]\n",
    "draft=draft[draft[\"Fruit_Consumption\"]>borne_inf]"
   ]
  },
  {
   "cell_type": "code",
   "execution_count": 14,
   "id": "d336e287-5a7f-4b3b-8db4-238880edad9c",
   "metadata": {},
   "outputs": [],
   "source": [
    "#Green_Vegetables_Consumption\n",
    "q1=draft[\"Green_Vegetables_Consumption\"].quantile(q=0.25)\n",
    "q3=draft[\"Green_Vegetables_Consumption\"].quantile(q=0.75)\n",
    "IQR=q3-q1\n",
    "borne_inf = q1-1.5*IQR\n",
    "borne_sup = q3 +1.5*IQR\n",
    "draft= draft[draft[\"Green_Vegetables_Consumption\"]<borne_sup]\n",
    "draft=draft[draft[\"Green_Vegetables_Consumption\"]>borne_inf]"
   ]
  },
  {
   "cell_type": "code",
   "execution_count": 15,
   "id": "864b5fca-b939-4fe7-a83f-9000342cda2e",
   "metadata": {},
   "outputs": [],
   "source": [
    "#FriedPotato_Consumption\n",
    "q1=draft[\"FriedPotato_Consumption\"].quantile(q=0.25)\n",
    "q3=draft[\"FriedPotato_Consumption\"].quantile(q=0.75)\n",
    "IQR=q3-q1\n",
    "borne_inf = q1-1.5*IQR\n",
    "borne_sup = q3 +1.5*IQR\n",
    "draft= draft[draft[\"FriedPotato_Consumption\"]<borne_sup]\n",
    "draft=draft[draft[\"FriedPotato_Consumption\"]>borne_inf]"
   ]
  },
  {
   "cell_type": "code",
   "execution_count": null,
   "id": "1e173df8-606d-4113-81f2-1ea6e7eda061",
   "metadata": {},
   "outputs": [],
   "source": [
    "plt.figure(figsize=(12, 8))\n",
    "\n",
    "# Utilisation de la palette de couleurs de seaborn\n",
    "sns.set_palette(\"Set3\")\n",
    "# Utilisation de la fonction boxplot de seaborn\n",
    "sns.boxplot(data=draft, orient='v', width=0.5, fliersize=5)\n",
    "\n",
    "# Rotation des labels sur l'axe des x pour une meilleure lisibilité\n",
    "plt.xticks(rotation=45, fontsize=12)\n",
    "\n",
    "plt.title(\"Boxplot des variables quantitatives\", fontsize=16)\n",
    "plt.ylabel(\"Valeurs\", fontsize=14)\n",
    "plt.xlabel(\"Variables\", fontsize=14)\n",
    "\n",
    "# Ajout d'une grille pour une meilleure lisibilité\n",
    "plt.grid(axis='y', linestyle='--', alpha=0.7)\n",
    "\n",
    "# Personnalisation des axes\n",
    "plt.tick_params(axis='both', which='major', labelsize=12)\n",
    "\n",
    "plt.show()"
   ]
  },
  {
   "cell_type": "code",
   "execution_count": null,
   "id": "29f5c749-389b-482a-9f1f-bb4b3e90cfb4",
   "metadata": {},
   "outputs": [],
   "source": [
    "draft.shape"
   ]
  },
  {
   "cell_type": "markdown",
   "id": "349caeef-da17-4f0f-b9af-720fe62ce87f",
   "metadata": {},
   "source": [
    "#### convert categorical data"
   ]
  },
  {
   "cell_type": "code",
   "execution_count": 16,
   "id": "942d5537-ecbb-4e09-8056-8a0df7523717",
   "metadata": {},
   "outputs": [
    {
     "name": "stdout",
     "output_type": "stream",
     "text": [
      "General_Health ['Poor' 'Very Good' 'Good' 'Fair' 'Excellent']\n",
      "Checkup ['Within the past 2 years' 'Within the past year' '5 or more years ago'\n",
      " 'Within the past 5 years' 'Never']\n",
      "Exercise ['No' 'Yes']\n",
      "Heart_Disease ['No' 'Yes']\n",
      "Skin_Cancer ['No' 'Yes']\n",
      "Other_Cancer ['No' 'Yes']\n",
      "Depression ['No' 'Yes']\n",
      "Diabetes ['No' 'Yes' 'No, pre-diabetes or borderline diabetes'\n",
      " 'Yes, but female told only during pregnancy']\n",
      "Arthritis ['Yes' 'No']\n",
      "Sex ['Female' 'Male']\n",
      "Age_Category ['70-74' '60-64' '75-79' '80+' '65-69' '50-54' '45-49' '30-34' '55-59'\n",
      " '18-24' '35-39' '40-44' '25-29']\n",
      "Smoking_History ['Yes' 'No']\n"
     ]
    },
    {
     "data": {
      "text/plain": [
       "General_Health      5\n",
       "Checkup             5\n",
       "Exercise            2\n",
       "Heart_Disease       2\n",
       "Skin_Cancer         2\n",
       "Other_Cancer        2\n",
       "Depression          2\n",
       "Diabetes            4\n",
       "Arthritis           2\n",
       "Sex                 2\n",
       "Age_Category       13\n",
       "Smoking_History     2\n",
       "dtype: int64"
      ]
     },
     "execution_count": 16,
     "metadata": {},
     "output_type": "execute_result"
    }
   ],
   "source": [
    "#les valeurs distinctes de chaque colonne de type object\n",
    "df = draft.copy()\n",
    "columns_object = df.select_dtypes(include=['object']).columns\n",
    "for column in columns_object:\n",
    "    print(column, df[column].unique())\n",
    "df.select_dtypes('object').nunique()"
   ]
  },
  {
   "cell_type": "code",
   "execution_count": 17,
   "id": "ed01a3fb-d3ee-4920-a4dc-b8605d9f32ae",
   "metadata": {},
   "outputs": [],
   "source": [
    "#la transformation\n",
    "from sklearn.preprocessing import LabelEncoder\n",
    "le=LabelEncoder()\n",
    "for column in columns_object:\n",
    "    df[column]=le.fit_transform(df[column])"
   ]
  },
  {
   "cell_type": "code",
   "execution_count": null,
   "id": "49d4ca00-c968-41bc-bc6e-d8bdeed467a2",
   "metadata": {},
   "outputs": [],
   "source": [
    "df.head()"
   ]
  },
  {
   "cell_type": "code",
   "execution_count": null,
   "id": "9f4fd8db-3f1f-46fd-ba4d-a2fe27706e9a",
   "metadata": {},
   "outputs": [],
   "source": [
    "df.info()"
   ]
  },
  {
   "cell_type": "markdown",
   "id": "f426ec21-b1d7-4910-aeca-e6f1db119b85",
   "metadata": {},
   "source": [
    "#### A look at the data again"
   ]
  },
  {
   "cell_type": "code",
   "execution_count": null,
   "id": "fdebf1e3-5193-4e59-ba6c-3ab52130eeef",
   "metadata": {},
   "outputs": [],
   "source": [
    "df['Heart_Disease'].value_counts().plot(kind='bar')"
   ]
  },
  {
   "cell_type": "code",
   "execution_count": null,
   "id": "848898cd-3b0b-4727-bdf0-b65c0c572460",
   "metadata": {},
   "outputs": [],
   "source": [
    "df['Heart_Disease'].value_counts()"
   ]
  },
  {
   "cell_type": "code",
   "execution_count": null,
   "id": "a4a92337-f187-48eb-8fee-5f1494a957b3",
   "metadata": {},
   "outputs": [],
   "source": [
    "# Correlation Heatmap visualization code\n",
    "plt.figure(figsize=(12,6))\n",
    "corr=df.corr()\n",
    "sns.heatmap(corr,annot=True, fmt=\".3f\" , linewidths = .5)\n",
    "#sns.heatmap(corr,annot=True)"
   ]
  },
  {
   "cell_type": "markdown",
   "id": "be20c007-dd4c-4a0b-910e-cbdfec92fc94",
   "metadata": {},
   "source": [
    "<div class=\"alert alert-success\">\n",
    "<p>\n",
    "    weight(kg) et BMI sont  corrélé de 0.83\n",
    "</p>\n",
    "<p>BMI (Body Mass Index) = weight (kg) / (height (m) * height (m))</p>\n",
    "</div>"
   ]
  },
  {
   "cell_type": "code",
   "execution_count": null,
   "id": "56ccc65f-3b6d-4378-8329-64c9fa2f8763",
   "metadata": {},
   "outputs": [],
   "source": [
    "#Show the correlation of the target with the other features\n",
    "corr_target = abs(corr['Heart_Disease'])\n",
    "corr_target = corr_target.sort_values(ascending=False)\n",
    "print(corr_target)\n"
   ]
  },
  {
   "cell_type": "markdown",
   "id": "9f6d1f16-40b3-4c28-bc5b-073650d49e14",
   "metadata": {},
   "source": [
    "#### Drop unnecessary columns"
   ]
  },
  {
   "cell_type": "code",
   "execution_count": 18,
   "id": "9cae82ee-0f70-442f-b519-58c212fd62d6",
   "metadata": {},
   "outputs": [],
   "source": [
    "#elimination de height et weight\n",
    "df = df.drop(['Weight_(kg)', 'Height_(cm)'], axis=1)"
   ]
  },
  {
   "cell_type": "code",
   "execution_count": null,
   "id": "73ee3933-a185-40c4-9f59-f69fc2b579fc",
   "metadata": {},
   "outputs": [],
   "source": [
    "df.info()"
   ]
  },
  {
   "cell_type": "markdown",
   "id": "75855300-25e8-4c86-b9b1-489bd708f8d0",
   "metadata": {},
   "source": [
    "### Balance the data"
   ]
  },
  {
   "cell_type": "code",
   "execution_count": 19,
   "id": "f688dc50-1019-4a63-90f9-832493fe1815",
   "metadata": {},
   "outputs": [
    {
     "data": {
      "text/plain": [
       "Heart_Disease\n",
       "0    15735\n",
       "1    15735\n",
       "Name: count, dtype: int64"
      ]
     },
     "execution_count": 19,
     "metadata": {},
     "output_type": "execute_result"
    }
   ],
   "source": [
    "df_0 = df[df['Heart_Disease'] == 0]\n",
    "df_1 = df[df['Heart_Disease'] == 1]\n",
    "#Select randomly the same number of samples from the 0 class\n",
    "df_0 = df_0.sample(n=len(df_1), random_state=42)\n",
    "#Concatenate the two classes\n",
    "df_balanced = pd.concat([df_0, df_1])\n",
    "df_balanced['Heart_Disease'].value_counts()"
   ]
  },
  {
   "cell_type": "markdown",
   "id": "c170af3b-74d8-4b35-8163-e31665851486",
   "metadata": {},
   "source": [
    "# Split the dataset"
   ]
  },
  {
   "cell_type": "code",
   "execution_count": 20,
   "id": "ae358701-fda5-49e6-bac1-feca88858b67",
   "metadata": {},
   "outputs": [],
   "source": [
    "from sklearn.model_selection import train_test_split\n",
    "X = df_balanced.drop('Heart_Disease', axis=1)\n",
    "y = df_balanced['Heart_Disease']\n",
    "X_train, X_test, y_train, y_test = train_test_split(X, y, test_size=0.25, random_state=42)"
   ]
  },
  {
   "cell_type": "markdown",
   "id": "21bb70b1-fbe6-4903-beb9-aaafa1ff01b5",
   "metadata": {},
   "source": [
    "# K-Nearest Neighbors (KNN)"
   ]
  },
  {
   "cell_type": "code",
   "execution_count": null,
   "id": "d88b4953-d83f-4994-87df-476d0e9c4c3e",
   "metadata": {},
   "outputs": [],
   "source": [
    "knn = KNeighborsClassifier()\n",
    "knn_parameter = {'n_neighbors': [1,3,5,7,9], 'metric': ['euclidean', 'manhattan']}\n",
    "\n",
    "grid_search = GridSearchCV(knn, knn_parameter, cv=5, scoring='accuracy')\n",
    "grid_search.fit(X_train, y_train)\n",
    "print(\"Best parameters: \", grid_search.best_params_)\n",
    "print(\"Best score: \", grid_search.best_score_)\n",
    "knn_best_est =grid_search.best_estimator_\n",
    "\n",
    "y_predicted = knn_best_est.predict(X_test)\n",
    "print(classification_report(y_test, y_predicted))\n",
    "cm = confusion_matrix(y_test, y_predicted)\n",
    "#sns.heatmap(cm, annot=True, fmt='d')\n",
    "sns.heatmap(cm, annot=True , fmt='d' ,cmap=\"Blues_r\")\n",
    "plt.xlabel(\"Actual label\")\n",
    "plt.ylabel(\"Predicted label\")\n",
    "plt.show()\n",
    "\n",
    "y_scores = knn_best_est.predict_proba(X_test)[:, 1]\n",
    "precision, recall, _ = precision_recall_curve(y_test, y_scores)\n",
    "fpr, tpr, _ = roc_curve(y_test, y_scores)\n",
    "roc_auc = auc(fpr , tpr)\n",
    "\n",
    "plt.plot(recall, precision, label='Precision-Recall curve')\n",
    "plt.xlabel('Recall')\n",
    "plt.ylabel('Precision')\n",
    "plt.show()\n",
    "\n",
    "plt.plot(fpr, tpr, lw=2, label=f'ROC curve (area = {roc_auc:0.2f})')\n",
    "plt.plot([0, 1], [0, 1], color='navy', lw=2, linestyle='--')\n",
    "plt.xlim([0.0, 1.0])\n",
    "plt.ylim([0.0, 1.05])\n",
    "plt.xlabel('False Positive Rate')\n",
    "plt.ylabel('True Positive Rate')\n",
    "plt.legend(loc=\"lower right\")\n",
    "plt.show()"
   ]
  },
  {
   "cell_type": "markdown",
   "id": "bcd0a158-6923-4b89-905f-d45026d994b3",
   "metadata": {},
   "source": [
    "# Decision Tree"
   ]
  },
  {
   "cell_type": "code",
   "execution_count": null,
   "id": "435811e2-2a47-46cb-ad79-36befbc567f3",
   "metadata": {},
   "outputs": [],
   "source": [
    "dt = DecisionTreeClassifier()\n",
    "decision_tree_parameter = {'criterion': ['entropy', 'gini']}\n",
    "\n",
    "grid_search = GridSearchCV(dt, decision_tree_parameter, cv=5, scoring='accuracy')\n",
    "grid_search.fit(X_train, y_train)\n",
    "print(\"Best parameters: \", grid_search.best_params_)\n",
    "print(\"Best score: \", grid_search.best_score_)\n",
    "dt_best_est =grid_search.best_estimator_\n",
    "\n",
    "y_predicted = dt_best_est.predict(X_test)\n",
    "print(classification_report(y_test, y_predicted))\n",
    "cm = confusion_matrix(y_test, y_predicted)\n",
    "sns.heatmap(cm, annot=True , fmt='d' ,cmap=\"Blues_r\")\n",
    "plt.xlabel(\"Actual label\")\n",
    "plt.ylabel(\"Predicted label\")\n",
    "plt.show()\n",
    "\n",
    "y_scores = dt_best_est.predict_proba(X_test)[:, 1]\n",
    "precision, recall, _ = precision_recall_curve(y_test, y_scores)\n",
    "fpr, tpr, _ = roc_curve(y_test, y_scores)\n",
    "roc_auc = auc(fpr , tpr)\n",
    "\n",
    "plt.plot(recall, precision, label='Precision-Recall curve')\n",
    "plt.xlabel('Recall')\n",
    "plt.ylabel('Precision')\n",
    "plt.show()\n",
    "\n",
    "plt.plot(fpr, tpr, lw=2, label=f'ROC curve (area = {roc_auc:0.2f})')\n",
    "plt.plot([0, 1], [0, 1], color='navy', lw=2, linestyle='--')\n",
    "plt.xlim([0.0, 1.0])\n",
    "plt.ylim([0.0, 1.05])\n",
    "plt.xlabel('False Positive Rate')\n",
    "plt.ylabel('True Positive Rate')\n",
    "plt.legend(loc=\"lower right\")\n",
    "plt.show()\n"
   ]
  },
  {
   "cell_type": "markdown",
   "id": "ef1240f7-b5c7-4dce-b4cd-ae407f077d59",
   "metadata": {},
   "source": [
    "# Logistic Regression"
   ]
  },
  {
   "cell_type": "code",
   "execution_count": null,
   "id": "a09ddafc-6678-4a34-b939-ca3508baa954",
   "metadata": {},
   "outputs": [],
   "source": [
    "from sklearn.preprocessing import StandardScaler\n",
    "from sklearn.linear_model import LogisticRegression\n",
    "from sklearn.model_selection import GridSearchCV\n",
    "from sklearn.metrics import classification_report, roc_curve, auc\n",
    "import matplotlib.pyplot as plt\n",
    "\n",
    "# Normaliser les données: Les données d'entraînement (X_train) et de test (X_test) sont normalisées à l'aide de StandardScaler \n",
    "# pour garantir que chaque caractéristique ait une moyenne de 0 et un écart-type de 1.\n",
    "scaler = StandardScaler()\n",
    "X_train_scaled = scaler.fit_transform(X_train)\n",
    "X_test_scaled = scaler.transform(X_test)\n",
    "\n",
    "# Augmenter max_iter et changer solver dans la régression logistique\n",
    "logistic_regression = LogisticRegression(max_iter=1000, solver='liblinear')\n",
    "#lr_parameter : C'est un dictionnaire qui spécifie les valeurs des hyperparamètres à tester\n",
    "lr_parameter = {'max_iter': [1000, 2000, 3000], 'solver': ['newton-cg', 'lbfgs', 'liblinear', 'sag', 'saga']}\n",
    "\n",
    "\n",
    "# Réglage des hyperparamètres avec GridSearchCV\n",
    "#GridSearchCV est utilisé pour effectuer une recherche en grille afin de trouver les meilleurs hyperparamètres parmi ceux spécifiés dans lr_param_grid\n",
    "grid_search = GridSearchCV(logistic_regression, lr_parameter, cv=5, scoring='accuracy')\n",
    "grid_search.fit(X_train_scaled, y_train)\n",
    "\n",
    "# Meilleur modèle\n",
    "lr_best_est = grid_search.best_estimator_\n",
    "\n",
    "# Évaluation du modèle\n",
    "y_predicted = lr_best_est.predict(X_test_scaled)\n",
    "print(classification_report(y_test, y_predicted))\n",
    "\n",
    "#confusion matrix\n",
    "cm = confusion_matrix(y_test, y_predicted)\n",
    "sns.heatmap(cm, annot=True , fmt='d' ,cmap=\"Blues_r\")\n",
    "plt.xlabel(\"Actual label\")\n",
    "plt.ylabel(\"Predicted label\")\n",
    "plt.show()\n",
    "\n",
    "# Tracer les courbes ROC\n",
    "y_prob = lr_best_est.predict_proba(X_test_scaled)[:, 1]\n",
    "fpr, tpr, _ = roc_curve(y_test, y_prob)\n",
    "roc_auc = auc(fpr, tpr)\n",
    "\n",
    "plt.figure()\n",
    "plt.plot(fpr, tpr, lw=2, label=f'ROC curve (area = {roc_auc:0.2f})')\n",
    "plt.plot([0, 1], [0, 1], color='navy', lw=2, linestyle='--')\n",
    "plt.xlim([0.0, 1.0])\n",
    "plt.ylim([0.0, 1.05])\n",
    "plt.xlabel('False Positive Rate')\n",
    "plt.ylabel('True Positive Rate')\n",
    "#plt.title('Receiver Operating Characteristic')\n",
    "plt.legend(loc=\"lower right\")\n",
    "plt.show()\n"
   ]
  },
  {
   "cell_type": "markdown",
   "id": "3746bfd4-b137-429e-a2cc-201f284a9bd7",
   "metadata": {},
   "source": [
    "# SVM"
   ]
  },
  {
   "cell_type": "code",
   "execution_count": 26,
   "id": "5a36398e-464e-4580-bf2f-d7bd4b5db9e8",
   "metadata": {},
   "outputs": [
    {
     "name": "stdout",
     "output_type": "stream",
     "text": [
      "Kernel: linear \n",
      "C:  100\n",
      "  Accuracy:  0.7388154550076258\n",
      "*****************************************\n",
      " \n",
      "Kernel: linear \n",
      "C:  10\n",
      "  Accuracy:  0.7388154550076258\n",
      "*****************************************\n",
      " \n",
      "Kernel: linear \n",
      "C:  1.0\n",
      "  Accuracy:  0.7390696492119979\n",
      "*****************************************\n",
      " \n",
      "Kernel: linear \n",
      "C:  0.1\n",
      "  Accuracy:  0.7388154550076258\n",
      "*****************************************\n",
      " \n",
      "Kernel: linear \n",
      "C:  0.001\n",
      "  Accuracy:  0.7386883579054397\n",
      "*****************************************\n",
      " \n",
      "Kernel: poly \n",
      "C:  100\n",
      "  Accuracy:  0.7422470767666497\n",
      "*****************************************\n",
      " \n",
      "Kernel: poly \n",
      "C:  10\n",
      "  Accuracy:  0.7425012709710218\n",
      "*****************************************\n",
      " \n",
      "Kernel: poly \n",
      "C:  1.0\n",
      "  Accuracy:  0.7432638535841383\n",
      "*****************************************\n",
      " \n",
      "Kernel: poly \n",
      "C:  0.1\n",
      "  Accuracy:  0.7425012709710218\n",
      "*****************************************\n",
      " \n",
      "Kernel: poly \n",
      "C:  0.001\n",
      "  Accuracy:  0.6530249110320284\n",
      "*****************************************\n",
      " \n",
      "Kernel: rbf \n",
      "C:  100\n",
      "  Accuracy:  0.7178444331469243\n",
      "*****************************************\n",
      " \n",
      "Kernel: rbf \n",
      "C:  10\n",
      "  Accuracy:  0.7430096593797662\n",
      "*****************************************\n",
      " \n",
      "Kernel: rbf \n",
      "C:  1.0\n",
      "  Accuracy:  0.7494916115912558\n",
      "*****************************************\n",
      " \n",
      "Kernel: rbf \n",
      "C:  0.1\n",
      "  Accuracy:  0.7488561260803254\n",
      "*****************************************\n",
      " \n",
      "Kernel: rbf \n",
      "C:  0.001\n",
      "  Accuracy:  0.7231825114387392\n",
      "*****************************************\n",
      " \n",
      "Kernel: sigmoid \n",
      "C:  100\n",
      "  Accuracy:  0.6616675139806812\n",
      "*****************************************\n",
      " \n",
      "Kernel: sigmoid \n",
      "C:  10\n",
      "  Accuracy:  0.6617946110828673\n",
      "*****************************************\n",
      " \n",
      "Kernel: sigmoid \n",
      "C:  1.0\n",
      "  Accuracy:  0.6642094560244026\n",
      "*****************************************\n",
      " \n",
      "Kernel: sigmoid \n",
      "C:  0.1\n",
      "  Accuracy:  0.6879766141331978\n",
      "*****************************************\n",
      " \n",
      "Kernel: sigmoid \n",
      "C:  0.001\n",
      "  Accuracy:  0.7353838332486019\n",
      "*****************************************\n",
      " \n",
      "*****************************************\n",
      " \n",
      "Best kernel:  rbf\n",
      "Best C:  1.0\n",
      "Highest accuracy:  0.7494916115912558\n",
      "*****************************************\n",
      " \n"
     ]
    }
   ],
   "source": [
    "# Standardisation des données\n",
    "scaler = StandardScaler()\n",
    "X_train_scaled = scaler.fit_transform(X_train)\n",
    "X_test_scaled = scaler.transform(X_test)\n",
    "\n",
    "kernels = ['linear', 'poly','rbf', 'sigmoid']\n",
    "Cs = [100, 10, 1.0, 0.1, 0.001]\n",
    "\n",
    "best_kernel = ''\n",
    "best_C = 0\n",
    "highest_accuracy = 0\n",
    "\n",
    "for kernel in kernels:\n",
    "    for C in Cs:\n",
    "        print(\"Kernel:\", kernel, \"\\nC: \", C)\n",
    "        svm = SVC(kernel=kernel, C=C)\n",
    "        svm.fit(X_train_scaled, y_train)\n",
    "        y_predicted = svm.predict(X_test_scaled)\n",
    "        accuracy = accuracy_score(y_test, y_predicted)\n",
    "        print(\"  Accuracy: \", accuracy)\n",
    "        if accuracy > highest_accuracy:\n",
    "            best_kernel = kernel\n",
    "            best_C = C\n",
    "            highest_accuracy = accuracy\n",
    "        print(\"*****************************************\\n \")\n",
    "        # Delete the model and free up memory\n",
    "        del svm\n",
    "        gc.collect()\n",
    "        \n",
    "print(\"*****************************************\\n \")\n",
    "print(\"Best kernel: \", best_kernel)\n",
    "print(\"Best C: \", best_C)\n",
    "print(\"Highest accuracy: \", highest_accuracy)\n",
    "print(\"*****************************************\\n \")"
   ]
  },
  {
   "cell_type": "code",
   "execution_count": 28,
   "id": "71053bc1-0bfc-42ac-99a7-8f203387297c",
   "metadata": {},
   "outputs": [
    {
     "name": "stdout",
     "output_type": "stream",
     "text": [
      "              precision    recall  f1-score   support\n",
      "\n",
      "           0       0.80      0.67      0.73      3967\n",
      "           1       0.71      0.83      0.77      3901\n",
      "\n",
      "    accuracy                           0.75      7868\n",
      "   macro avg       0.76      0.75      0.75      7868\n",
      "weighted avg       0.76      0.75      0.75      7868\n",
      "\n"
     ]
    },
    {
     "data": {
      "image/png": "[encoded data removed]",
      "text/plain": [
       "<Figure size 640x480 with 2 Axes>"
      ]
     },
     "metadata": {},
     "output_type": "display_data"
    },
    {
     "data": {
      "image/png": "[encoded data removed]",
      "text/plain": [
       "<Figure size 640x480 with 1 Axes>"
      ]
     },
     "metadata": {},
     "output_type": "display_data"
    },
    {
     "data": {
      "image/png": "[encoded data removed]",
      "text/plain": [
       "<Figure size 640x480 with 1 Axes>"
      ]
     },
     "metadata": {},
     "output_type": "display_data"
    }
   ],
   "source": [
    "svc = SVC(kernel=best_kernel, C=best_C,probability=True)\n",
    "svc.fit(X_train_scaled, y_train)\n",
    "y_predicted = svc.predict(X_test_scaled)\n",
    "print(classification_report(y_test, y_predicted))\n",
    "\n",
    "#confusion matrix\n",
    "cm = confusion_matrix(y_test, y_predicted)\n",
    "sns.heatmap(cm, annot=True, fmt='d', cmap=\"Blues_r\")\n",
    "plt.show()\n",
    "\n",
    "# Define the function to plot the Precision-Recall and ROC-AUC curves\n",
    "y_scores = svc.predict_proba(X_test_scaled)[:, 1]\n",
    "precision, recall, _ = precision_recall_curve(y_test, y_scores)\n",
    "fpr, tpr, _ = roc_curve(y_test, y_scores)\n",
    "roc_auc = auc(fpr , tpr)\n",
    "\n",
    "plt.plot(recall, precision, label='Precision-Recall curve')\n",
    "plt.xlabel('Recall')\n",
    "plt.ylabel('Precision')\n",
    "plt.show()\n",
    "\n",
    "plt.plot(fpr, tpr, lw=2, label=f'ROC curve (area = {roc_auc:0.2f})')\n",
    "plt.plot([0, 1], [0, 1], color='navy', lw=2, linestyle='--')\n",
    "plt.xlim([0.0, 1.0])\n",
    "plt.ylim([0.0, 1.05])\n",
    "plt.xlabel('False Positive Rate')\n",
    "plt.ylabel('True Positive Rate')\n",
    "plt.legend(loc=\"lower right\")\n",
    "plt.show()\n"
   ]
  },
  {
   "cell_type": "code",
   "execution_count": null,
   "id": "6b9c4aa3-d30f-4f28-931f-0474faa08d17",
   "metadata": {},
   "outputs": [],
   "source": []
  }
 ],
 "metadata": {
  "kernelspec": {
   "display_name": "Python 3 (ipykernel)",
   "language": "python",
   "name": "python3"
  },
  "language_info": {
   "codemirror_mode": {
    "name": "ipython",
    "version": 3
   },
   "file_extension": ".py",
   "mimetype": "text/x-python",
   "name": "python",
   "nbconvert_exporter": "python",
   "pygments_lexer": "ipython3",
   "version": "3.12.3"
  }
 },
 "nbformat": 4,
 "nbformat_minor": 5
}
